{
 "cells": [
  {
   "cell_type": "markdown",
   "id": "cf9f8caf-2b0c-4470-9f7a-1ddfb31cddc7",
   "metadata": {},
   "source": [
    "# Advanced decorators\n",
    "\n",
    "## Plan\n",
    "\n",
    "1. Decorator recap.\n",
    "2. Decorators with arguments.\n",
    "3. Classes as decorators.\n",
    "4. Decorating classes."
   ]
  },
  {
   "cell_type": "markdown",
   "id": "db6b40f9-fc56-4273-b2d8-20a3ca9e47ee",
   "metadata": {},
   "source": [
    "## Reference material: https://decorators.mathspp.com/intro.html"
   ]
  },
  {
   "cell_type": "code",
   "execution_count": 1,
   "id": "698918e1-a48b-4c96-a4e4-5b930085952f",
   "metadata": {},
   "outputs": [],
   "source": [
    "import functools\n",
    "\n",
    "def decorator(function_to_decorate):  # 1\n",
    "    @functools.wraps(function_to_decorate)  # 3\n",
    "    # 2                # 4\n",
    "    def inner_function(*args, **kwargs):\n",
    "        ...  # 5\n",
    "        result = function_to_decorate(*args, **kwargs)  # 6\n",
    "        ...  # 7\n",
    "        return result  # 8\n",
    "\n",
    "    return inner_function  # 9"
   ]
  },
  {
   "cell_type": "code",
   "execution_count": null,
   "id": "8b4bb2e6-2cc7-4384-8dc7-7fce157d92e2",
   "metadata": {},
   "outputs": [],
   "source": [
    "def decorator(f):\n",
    "    def wrapper(*args, **kwargs):\n",
    "        ...\n",
    "        result = f(*args, **kwargs)\n",
    "        ...\n",
    "        return result\n",
    "\n",
    "    return wrapper\n",
    "\n",
    "@decorator\n",
    "def foo():\n",
    "    pass\n",
    "\n",
    "# same as\n",
    "\n",
    "def foo():\n",
    "    pass\n",
    "\n",
    "foo = decorator(foo)"
   ]
  }
 ],
 "metadata": {
  "kernelspec": {
   "display_name": "Python 3 (ipykernel)",
   "language": "python",
   "name": "python3"
  },
  "language_info": {
   "codemirror_mode": {
    "name": "ipython",
    "version": 3
   },
   "file_extension": ".py",
   "mimetype": "text/x-python",
   "name": "python",
   "nbconvert_exporter": "python",
   "pygments_lexer": "ipython3",
   "version": "3.13.3"
  }
 },
 "nbformat": 4,
 "nbformat_minor": 5
}
