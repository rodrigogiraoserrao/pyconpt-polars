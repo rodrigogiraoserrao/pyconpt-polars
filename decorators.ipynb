{
 "cells": [
  {
   "cell_type": "markdown",
   "id": "cf9f8caf-2b0c-4470-9f7a-1ddfb31cddc7",
   "metadata": {},
   "source": [
    "# Advanced decorators\n",
    "\n",
    "## Plan\n",
    "\n",
    "1. Decorator recap.\n",
    "2. Decorators with arguments.\n",
    "3. Classes as decorators.\n",
    "4. Decorating classes."
   ]
  },
  {
   "cell_type": "markdown",
   "id": "db6b40f9-fc56-4273-b2d8-20a3ca9e47ee",
   "metadata": {},
   "source": [
    "## Reference material: https://decorators.mathspp.com/intro.html"
   ]
  },
  {
   "cell_type": "code",
   "execution_count": 1,
   "id": "698918e1-a48b-4c96-a4e4-5b930085952f",
   "metadata": {},
   "outputs": [],
   "source": [
    "import functools\n",
    "\n",
    "def decorator(function_to_decorate):  # 1\n",
    "    @functools.wraps(function_to_decorate)  # 3\n",
    "    # 2                # 4\n",
    "    def inner_function(*args, **kwargs):\n",
    "        ...  # 5\n",
    "        result = function_to_decorate(*args, **kwargs)  # 6\n",
    "        ...  # 7\n",
    "        return result  # 8\n",
    "\n",
    "    return inner_function  # 9"
   ]
  },
  {
   "cell_type": "code",
   "execution_count": 5,
   "id": "8b4bb2e6-2cc7-4384-8dc7-7fce157d92e2",
   "metadata": {},
   "outputs": [],
   "source": [
    "def decorator(f):\n",
    "    def wrapper(*args, **kwargs):\n",
    "        ...\n",
    "        result = f(*args, **kwargs)\n",
    "        ...\n",
    "        return result\n",
    "\n",
    "    return wrapper\n",
    "\n",
    "@decorator\n",
    "def foo():\n",
    "    pass\n",
    "\n",
    "# same as\n",
    "\n",
    "def foo():\n",
    "    \"\"\"Docstring.\"\"\"\n",
    "    pass\n",
    "\n",
    "foo = decorator(foo)"
   ]
  },
  {
   "cell_type": "code",
   "execution_count": 4,
   "id": "c3077f9e-16a5-4ccb-8926-1e7815cd8591",
   "metadata": {},
   "outputs": [
    {
     "data": {
      "text/plain": [
       "\u001b[31mSignature:\u001b[39m foo(*args, **kwargs)\n",
       "\u001b[31mDocstring:\u001b[39m <no docstring>\n",
       "\u001b[31mFile:\u001b[39m      /var/folders/29/cpfnqrmx0ll8m1vp9f9fmnx00000gn/T/ipykernel_10836/2138163077.py\n",
       "\u001b[31mType:\u001b[39m      function"
      ]
     },
     "metadata": {},
     "output_type": "display_data"
    }
   ],
   "source": [
    "?foo"
   ]
  },
  {
   "cell_type": "code",
   "execution_count": 9,
   "id": "40465f8d-dfa5-49bc-bb2c-b4fd305fe538",
   "metadata": {},
   "outputs": [
    {
     "data": {
      "text/plain": [
       "\u001b[31mSignature:\u001b[39m foo()\n",
       "\u001b[31mDocstring:\u001b[39m Docstring\n",
       "\u001b[31mFile:\u001b[39m      /var/folders/29/cpfnqrmx0ll8m1vp9f9fmnx00000gn/T/ipykernel_10836/1764871718.py\n",
       "\u001b[31mType:\u001b[39m      function"
      ]
     },
     "metadata": {},
     "output_type": "display_data"
    }
   ],
   "source": [
    "from functools import wraps\n",
    "\n",
    "def decorator(f):\n",
    "    @wraps(f)\n",
    "    def wrapper(*args, **kwargs):\n",
    "        ...\n",
    "        result = f(*args, **kwargs)\n",
    "        ...\n",
    "        return result\n",
    "\n",
    "    return wrapper\n",
    "\n",
    "@decorator\n",
    "def foo():\n",
    "    \"\"\"Docstring\"\"\"\n",
    "    pass\n",
    "\n",
    "?foo"
   ]
  },
  {
   "cell_type": "code",
   "execution_count": 21,
   "id": "0367d2fa-4c71-45c7-bc8e-3ed5760c468d",
   "metadata": {},
   "outputs": [],
   "source": [
    "import time\n",
    "\n",
    "def cache(f):\n",
    "    _cache = {}\n",
    "    def cached(*args):\n",
    "        if args not in _cache:\n",
    "            _cache[args] = f(*args)\n",
    "        return _cache[args]\n",
    "\n",
    "    return cached\n",
    "\n",
    "\n",
    "@cache\n",
    "def f():\n",
    "    time.sleep(1)\n",
    "    return 2"
   ]
  },
  {
   "cell_type": "markdown",
   "id": "5dfdb000-6f2d-4291-a692-1dc87fecd54a",
   "metadata": {},
   "source": [
    "# Decorators make use “closures”"
   ]
  },
  {
   "cell_type": "code",
   "execution_count": 26,
   "id": "7f849d1e-52f8-4517-bc54-98997181ba80",
   "metadata": {},
   "outputs": [
    {
     "data": {
      "text/plain": [
       "(<cell at 0x103f8f640: dict object at 0x104742180>,\n",
       " <cell at 0x103f8ef50: function object at 0x10470db20>)"
      ]
     },
     "execution_count": 26,
     "metadata": {},
     "output_type": "execute_result"
    }
   ],
   "source": [
    "f.__closure__"
   ]
  },
  {
   "cell_type": "code",
   "execution_count": 27,
   "id": "906fbcef-68a0-4dc7-9200-2683bca54107",
   "metadata": {},
   "outputs": [
    {
     "data": {
      "text/plain": [
       "<cell at 0x103f8f640: dict object at 0x104742180>"
      ]
     },
     "execution_count": 27,
     "metadata": {},
     "output_type": "execute_result"
    }
   ],
   "source": [
    "f.__closure__[0]"
   ]
  },
  {
   "cell_type": "code",
   "execution_count": 28,
   "id": "f9cfe0b3-96fe-49cc-a0f7-6b4832b4e08c",
   "metadata": {},
   "outputs": [
    {
     "data": {
      "text/plain": [
       "{(): 2}"
      ]
     },
     "execution_count": 28,
     "metadata": {},
     "output_type": "execute_result"
    }
   ],
   "source": [
    "f.__closure__[0].cell_contents"
   ]
  },
  {
   "cell_type": "code",
   "execution_count": 29,
   "id": "8734cb3e-4398-4dbe-a432-315b80b9acdb",
   "metadata": {},
   "outputs": [],
   "source": [
    "@cache\n",
    "def add(a, b):\n",
    "    return a + b"
   ]
  },
  {
   "cell_type": "code",
   "execution_count": 32,
   "id": "a2b80e7b-1c1a-4a71-b98f-b6f229bd04ff",
   "metadata": {},
   "outputs": [
    {
     "name": "stdout",
     "output_type": "stream",
     "text": [
      "{(1, 2): 3, (3, 4): 7}\n"
     ]
    }
   ],
   "source": [
    "add(1, 2); add(3, 4)\n",
    "print(add.__closure__[0].cell_contents)"
   ]
  },
  {
   "cell_type": "code",
   "execution_count": 33,
   "id": "c4e9cc77-5ed8-48e6-995d-98140494e6e6",
   "metadata": {},
   "outputs": [],
   "source": [
    "from functools import lru_cache"
   ]
  },
  {
   "cell_type": "markdown",
   "id": "2df88a05-a5da-4536-97d2-e9862025f0ef",
   "metadata": {},
   "source": [
    "# lru_cache adds a cache to your function\n",
    "\n",
    "## The cache may be bounded"
   ]
  },
  {
   "cell_type": "code",
   "execution_count": 34,
   "id": "0e202cc4-7068-4c43-a183-05e6a89ecf89",
   "metadata": {},
   "outputs": [],
   "source": [
    "@lru_cache(1024)\n",
    "def add(a, b):\n",
    "    return a + b"
   ]
  },
  {
   "cell_type": "markdown",
   "id": "c1eb5189-a615-4ee7-8fee-51452e1a7d70",
   "metadata": {},
   "source": [
    "## How do you create decorators with arguments?!"
   ]
  },
  {
   "cell_type": "code",
   "execution_count": 43,
   "id": "c64ad80b-84ec-41b2-9ce2-2da67662b8f8",
   "metadata": {},
   "outputs": [],
   "source": [
    "# Cache with a maximum size.\n",
    "\n",
    "MAX_SIZE = 2\n",
    "\n",
    "def cache(f):\n",
    "    _cache = {}\n",
    "    def cached(*args):\n",
    "        if args not in _cache:\n",
    "            _cache[args] = f(*args)\n",
    "        if len(_cache) > MAX_SIZE:\n",
    "            key_to_remove = next(iter(_cache.keys()))\n",
    "            del _cache[key_to_remove]\n",
    "        \n",
    "        return _cache[args]\n",
    "\n",
    "    return cached"
   ]
  },
  {
   "cell_type": "code",
   "execution_count": 44,
   "id": "d4c140db-1e84-40b0-a51e-0581aeca1a07",
   "metadata": {},
   "outputs": [],
   "source": [
    "@cache\n",
    "def add(a, b):\n",
    "    return a + b"
   ]
  },
  {
   "cell_type": "code",
   "execution_count": 45,
   "id": "df53ffbc-369f-4ac4-9237-cfdea7fbabc2",
   "metadata": {},
   "outputs": [
    {
     "data": {
      "text/plain": [
       "11"
      ]
     },
     "execution_count": 45,
     "metadata": {},
     "output_type": "execute_result"
    }
   ],
   "source": [
    "add(1, 2)\n",
    "add(3, 4)\n",
    "add(5, 6)"
   ]
  },
  {
   "cell_type": "markdown",
   "id": "bcebecb2-7c7e-4d83-b4df-910621a57bb5",
   "metadata": {},
   "source": [
    "# To create a decorator with arguments:\n",
    "\n",
    " - Indent the decorator without arguments & the global variable\n",
    " - The global variable becomes an argument of the outermost function\n",
    " - Return what was the outermost function (which is now the intermediate function)"
   ]
  },
  {
   "cell_type": "code",
   "execution_count": 47,
   "id": "aacba1d1-da1a-4d66-9caa-776a923a5c22",
   "metadata": {},
   "outputs": [],
   "source": [
    "# Cache with a maximum size.\n",
    "\n",
    "def cache(max_size):\n",
    "    \n",
    "    def cache_inner(f):\n",
    "        _cache = {}\n",
    "        def cached(*args):\n",
    "            if args not in _cache:\n",
    "                _cache[args] = f(*args)\n",
    "            \n",
    "            if len(_cache) > max_size:\n",
    "                key_to_remove = next(iter(_cache.keys()))\n",
    "                del _cache[key_to_remove]\n",
    "            \n",
    "            return _cache[args]\n",
    "    \n",
    "        return cached\n",
    "\n",
    "    return cache_inner"
   ]
  },
  {
   "cell_type": "code",
   "execution_count": 48,
   "id": "b780a9fa-d8b5-4f9d-a093-01efceddc08e",
   "metadata": {},
   "outputs": [],
   "source": [
    "@cache(3)\n",
    "def add(a, b):\n",
    "    return a + b"
   ]
  },
  {
   "cell_type": "code",
   "execution_count": 53,
   "id": "37ad0742-baaf-42ee-9162-167e6e976186",
   "metadata": {},
   "outputs": [],
   "source": [
    "# Cache with a maximum size.\n",
    "\n",
    "def lru_cache(max_size):\n",
    "    \n",
    "    def cache_inner(f):\n",
    "        _cache = {}  # The (key, value) pairs in the dictionary\n",
    "        # will be kept in order of recent usage.\n",
    "        def cached(*args):\n",
    "            if args not in _cache:\n",
    "                _cache[args] = f(*args)\n",
    "            else:  # Ensure this cached value is marked\n",
    "                # as having been used recently.\n",
    "                value = _cache[args]\n",
    "                del _cache[args]\n",
    "                _cache[args] = value\n",
    "\n",
    "            if len(_cache) > max_size:\n",
    "                key_to_remove = next(iter(_cache.keys()))\n",
    "                del _cache[key_to_remove]\n",
    "            \n",
    "            return _cache[args]\n",
    "    \n",
    "        return cached\n",
    "\n",
    "    return cache_inner"
   ]
  },
  {
   "cell_type": "markdown",
   "id": "9272c276-9676-4301-aa64-1e47616a7d35",
   "metadata": {},
   "source": [
    "# Classes as decorators"
   ]
  },
  {
   "cell_type": "code",
   "execution_count": 54,
   "id": "34717630-c557-439c-a342-c05744622abd",
   "metadata": {},
   "outputs": [],
   "source": [
    "from functools import cache, lru_cache"
   ]
  },
  {
   "cell_type": "code",
   "execution_count": 55,
   "id": "747e1e21-3d54-4221-a1ae-f556137a2f40",
   "metadata": {},
   "outputs": [
    {
     "data": {
      "text/plain": [
       "<function functools.cache(user_function, /)>"
      ]
     },
     "execution_count": 55,
     "metadata": {},
     "output_type": "execute_result"
    }
   ],
   "source": [
    "cache"
   ]
  },
  {
   "cell_type": "code",
   "execution_count": 56,
   "id": "5fb26361-5b79-475d-9184-2473f27f71f7",
   "metadata": {},
   "outputs": [
    {
     "data": {
      "text/plain": [
       "<function functools.lru_cache(maxsize=128, typed=False)>"
      ]
     },
     "execution_count": 56,
     "metadata": {},
     "output_type": "execute_result"
    }
   ],
   "source": [
    "lru_cache"
   ]
  },
  {
   "cell_type": "code",
   "execution_count": 57,
   "id": "2c5a0025-5d3c-43ac-a9fa-38218bc597a6",
   "metadata": {},
   "outputs": [],
   "source": [
    "@cache\n",
    "def foo():\n",
    "    pass"
   ]
  },
  {
   "cell_type": "code",
   "execution_count": 60,
   "id": "ca73f955-ef41-40c1-8efc-e827fd1b9394",
   "metadata": {},
   "outputs": [
    {
     "data": {
      "text/plain": [
       "CacheInfo(hits=0, misses=0, maxsize=None, currsize=0)"
      ]
     },
     "execution_count": 60,
     "metadata": {},
     "output_type": "execute_result"
    }
   ],
   "source": [
    "foo.cache_info()"
   ]
  },
  {
   "cell_type": "markdown",
   "id": "cd63e9c8-cfd3-4801-a30e-216b39308cde",
   "metadata": {},
   "source": [
    "## Classes as decorators allow you to add more flexible functionality to your functions"
   ]
  },
  {
   "cell_type": "code",
   "execution_count": 64,
   "id": "e0baee8c-bf6d-441e-88a7-6d311576ca11",
   "metadata": {},
   "outputs": [],
   "source": [
    "class Decorator:\n",
    "    def __init__(self, function):\n",
    "        self._f = function"
   ]
  },
  {
   "cell_type": "code",
   "execution_count": 65,
   "id": "60a7bbae-a295-4866-973f-bab7ddaae181",
   "metadata": {},
   "outputs": [],
   "source": [
    "@Decorator\n",
    "def foo():\n",
    "    print(\"Hello, world!\")"
   ]
  },
  {
   "cell_type": "code",
   "execution_count": 68,
   "id": "578c4664-a59f-4df7-aca0-49856301152a",
   "metadata": {},
   "outputs": [
    {
     "data": {
      "text/plain": [
       "<__main__.Decorator at 0x103f4fa10>"
      ]
     },
     "execution_count": 68,
     "metadata": {},
     "output_type": "execute_result"
    }
   ],
   "source": [
    "foo  # foo is now an instance of the class Decorator"
   ]
  },
  {
   "cell_type": "code",
   "execution_count": 69,
   "id": "84e9f404-967a-4778-bf5b-b775a3712bd6",
   "metadata": {},
   "outputs": [
    {
     "ename": "TypeError",
     "evalue": "'Decorator' object is not callable",
     "output_type": "error",
     "traceback": [
      "\u001b[31m---------------------------------------------------------------------------\u001b[39m",
      "\u001b[31mTypeError\u001b[39m                                 Traceback (most recent call last)",
      "\u001b[36mCell\u001b[39m\u001b[36m \u001b[39m\u001b[32mIn[69]\u001b[39m\u001b[32m, line 2\u001b[39m\n\u001b[32m      1\u001b[39m \u001b[38;5;66;03m# I should be able to use the function:\u001b[39;00m\n\u001b[32m----> \u001b[39m\u001b[32m2\u001b[39m \u001b[43mfoo\u001b[49m\u001b[43m(\u001b[49m\u001b[43m)\u001b[49m\n",
      "\u001b[31mTypeError\u001b[39m: 'Decorator' object is not callable"
     ]
    }
   ],
   "source": [
    "# I should be able to use the function:\n",
    "foo()"
   ]
  },
  {
   "cell_type": "code",
   "execution_count": null,
   "id": "de673efe-5c16-414e-a4eb-35b93374fa68",
   "metadata": {},
   "outputs": [],
   "source": []
  }
 ],
 "metadata": {
  "kernelspec": {
   "display_name": "Python 3 (ipykernel)",
   "language": "python",
   "name": "python3"
  },
  "language_info": {
   "codemirror_mode": {
    "name": "ipython",
    "version": 3
   },
   "file_extension": ".py",
   "mimetype": "text/x-python",
   "name": "python",
   "nbconvert_exporter": "python",
   "pygments_lexer": "ipython3",
   "version": "3.13.3"
  }
 },
 "nbformat": 4,
 "nbformat_minor": 5
}
