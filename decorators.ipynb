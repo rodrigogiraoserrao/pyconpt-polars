{
 "cells": [
  {
   "cell_type": "markdown",
   "id": "cf9f8caf-2b0c-4470-9f7a-1ddfb31cddc7",
   "metadata": {},
   "source": [
    "# Advanced decorators\n",
    "\n",
    "## Plan\n",
    "\n",
    "1. Decorator recap.\n",
    "2. Decorators with arguments.\n",
    "3. Classes as decorators.\n",
    "4. Decorating classes."
   ]
  },
  {
   "cell_type": "markdown",
   "id": "db6b40f9-fc56-4273-b2d8-20a3ca9e47ee",
   "metadata": {},
   "source": [
    "## Reference material: https://decorators.mathspp.com/intro.html"
   ]
  },
  {
   "cell_type": "code",
   "execution_count": 1,
   "id": "698918e1-a48b-4c96-a4e4-5b930085952f",
   "metadata": {},
   "outputs": [],
   "source": [
    "import functools\n",
    "\n",
    "def decorator(function_to_decorate):  # 1\n",
    "    @functools.wraps(function_to_decorate)  # 3\n",
    "    # 2                # 4\n",
    "    def inner_function(*args, **kwargs):\n",
    "        ...  # 5\n",
    "        result = function_to_decorate(*args, **kwargs)  # 6\n",
    "        ...  # 7\n",
    "        return result  # 8\n",
    "\n",
    "    return inner_function  # 9"
   ]
  },
  {
   "cell_type": "code",
   "execution_count": 5,
   "id": "8b4bb2e6-2cc7-4384-8dc7-7fce157d92e2",
   "metadata": {},
   "outputs": [],
   "source": [
    "def decorator(f):\n",
    "    def wrapper(*args, **kwargs):\n",
    "        ...\n",
    "        result = f(*args, **kwargs)\n",
    "        ...\n",
    "        return result\n",
    "\n",
    "    return wrapper\n",
    "\n",
    "@decorator\n",
    "def foo():\n",
    "    pass\n",
    "\n",
    "# same as\n",
    "\n",
    "def foo():\n",
    "    \"\"\"Docstring.\"\"\"\n",
    "    pass\n",
    "\n",
    "foo = decorator(foo)"
   ]
  },
  {
   "cell_type": "code",
   "execution_count": 4,
   "id": "c3077f9e-16a5-4ccb-8926-1e7815cd8591",
   "metadata": {},
   "outputs": [
    {
     "data": {
      "text/plain": [
       "\u001b[31mSignature:\u001b[39m foo(*args, **kwargs)\n",
       "\u001b[31mDocstring:\u001b[39m <no docstring>\n",
       "\u001b[31mFile:\u001b[39m      /var/folders/29/cpfnqrmx0ll8m1vp9f9fmnx00000gn/T/ipykernel_10836/2138163077.py\n",
       "\u001b[31mType:\u001b[39m      function"
      ]
     },
     "metadata": {},
     "output_type": "display_data"
    }
   ],
   "source": [
    "?foo"
   ]
  },
  {
   "cell_type": "code",
   "execution_count": 9,
   "id": "40465f8d-dfa5-49bc-bb2c-b4fd305fe538",
   "metadata": {},
   "outputs": [
    {
     "data": {
      "text/plain": [
       "\u001b[31mSignature:\u001b[39m foo()\n",
       "\u001b[31mDocstring:\u001b[39m Docstring\n",
       "\u001b[31mFile:\u001b[39m      /var/folders/29/cpfnqrmx0ll8m1vp9f9fmnx00000gn/T/ipykernel_10836/1764871718.py\n",
       "\u001b[31mType:\u001b[39m      function"
      ]
     },
     "metadata": {},
     "output_type": "display_data"
    }
   ],
   "source": [
    "from functools import wraps\n",
    "\n",
    "def decorator(f):\n",
    "    @wraps(f)\n",
    "    def wrapper(*args, **kwargs):\n",
    "        ...\n",
    "        result = f(*args, **kwargs)\n",
    "        ...\n",
    "        return result\n",
    "\n",
    "    return wrapper\n",
    "\n",
    "@decorator\n",
    "def foo():\n",
    "    \"\"\"Docstring\"\"\"\n",
    "    pass\n",
    "\n",
    "?foo"
   ]
  },
  {
   "cell_type": "code",
   "execution_count": 21,
   "id": "0367d2fa-4c71-45c7-bc8e-3ed5760c468d",
   "metadata": {},
   "outputs": [],
   "source": [
    "import time\n",
    "\n",
    "def cache(f):\n",
    "    _cache = {}\n",
    "    def cached(*args):\n",
    "        if args not in _cache:\n",
    "            _cache[args] = f(*args)\n",
    "        return _cache[args]\n",
    "\n",
    "    return cached\n",
    "\n",
    "\n",
    "@cache\n",
    "def f():\n",
    "    time.sleep(1)\n",
    "    return 2"
   ]
  },
  {
   "cell_type": "markdown",
   "id": "5dfdb000-6f2d-4291-a692-1dc87fecd54a",
   "metadata": {},
   "source": [
    "# Decorators make use “closures”"
   ]
  },
  {
   "cell_type": "code",
   "execution_count": 26,
   "id": "7f849d1e-52f8-4517-bc54-98997181ba80",
   "metadata": {},
   "outputs": [
    {
     "data": {
      "text/plain": [
       "(<cell at 0x103f8f640: dict object at 0x104742180>,\n",
       " <cell at 0x103f8ef50: function object at 0x10470db20>)"
      ]
     },
     "execution_count": 26,
     "metadata": {},
     "output_type": "execute_result"
    }
   ],
   "source": [
    "f.__closure__"
   ]
  },
  {
   "cell_type": "code",
   "execution_count": 27,
   "id": "906fbcef-68a0-4dc7-9200-2683bca54107",
   "metadata": {},
   "outputs": [
    {
     "data": {
      "text/plain": [
       "<cell at 0x103f8f640: dict object at 0x104742180>"
      ]
     },
     "execution_count": 27,
     "metadata": {},
     "output_type": "execute_result"
    }
   ],
   "source": [
    "f.__closure__[0]"
   ]
  },
  {
   "cell_type": "code",
   "execution_count": 28,
   "id": "f9cfe0b3-96fe-49cc-a0f7-6b4832b4e08c",
   "metadata": {},
   "outputs": [
    {
     "data": {
      "text/plain": [
       "{(): 2}"
      ]
     },
     "execution_count": 28,
     "metadata": {},
     "output_type": "execute_result"
    }
   ],
   "source": [
    "f.__closure__[0].cell_contents"
   ]
  },
  {
   "cell_type": "code",
   "execution_count": 29,
   "id": "8734cb3e-4398-4dbe-a432-315b80b9acdb",
   "metadata": {},
   "outputs": [],
   "source": [
    "@cache\n",
    "def add(a, b):\n",
    "    return a + b"
   ]
  },
  {
   "cell_type": "code",
   "execution_count": 32,
   "id": "a2b80e7b-1c1a-4a71-b98f-b6f229bd04ff",
   "metadata": {},
   "outputs": [
    {
     "name": "stdout",
     "output_type": "stream",
     "text": [
      "{(1, 2): 3, (3, 4): 7}\n"
     ]
    }
   ],
   "source": [
    "add(1, 2); add(3, 4)\n",
    "print(add.__closure__[0].cell_contents)"
   ]
  },
  {
   "cell_type": "code",
   "execution_count": 33,
   "id": "c4e9cc77-5ed8-48e6-995d-98140494e6e6",
   "metadata": {},
   "outputs": [],
   "source": [
    "from functools import lru_cache"
   ]
  },
  {
   "cell_type": "markdown",
   "id": "2df88a05-a5da-4536-97d2-e9862025f0ef",
   "metadata": {},
   "source": [
    "# lru_cache adds a cache to your function\n",
    "\n",
    "## The cache may be bounded"
   ]
  },
  {
   "cell_type": "code",
   "execution_count": 34,
   "id": "0e202cc4-7068-4c43-a183-05e6a89ecf89",
   "metadata": {},
   "outputs": [],
   "source": [
    "@lru_cache(1024)\n",
    "def add(a, b):\n",
    "    return a + b"
   ]
  },
  {
   "cell_type": "markdown",
   "id": "c1eb5189-a615-4ee7-8fee-51452e1a7d70",
   "metadata": {},
   "source": [
    "## How do you create decorators with arguments?!"
   ]
  },
  {
   "cell_type": "code",
   "execution_count": 37,
   "id": "c64ad80b-84ec-41b2-9ce2-2da67662b8f8",
   "metadata": {},
   "outputs": [],
   "source": [
    "# Cache with a maximum size.\n",
    "\n",
    "MAX_SIZE = 2\n",
    "\n",
    "def cache(f):\n",
    "    _cache = {}\n",
    "    def cached(*args):\n",
    "        if args not in _cache:\n",
    "            _cache[args] = f(*args)\n",
    "        if len(_cache[args]) > MAX_SIZE:\n",
    "            key_to_remove = next(_cache.keys())\n",
    "            del _cache[key_to_remove]\n",
    "        \n",
    "        return _cache[args]\n",
    "\n",
    "    return cached"
   ]
  },
  {
   "cell_type": "code",
   "execution_count": null,
   "id": "d4c140db-1e84-40b0-a51e-0581aeca1a07",
   "metadata": {},
   "outputs": [],
   "source": [
    "@lru_cache(1024)\n",
    "def add(a, b):\n",
    "    return a + b"
   ]
  }
 ],
 "metadata": {
  "kernelspec": {
   "display_name": "Python 3 (ipykernel)",
   "language": "python",
   "name": "python3"
  },
  "language_info": {
   "codemirror_mode": {
    "name": "ipython",
    "version": 3
   },
   "file_extension": ".py",
   "mimetype": "text/x-python",
   "name": "python",
   "nbconvert_exporter": "python",
   "pygments_lexer": "ipython3",
   "version": "3.13.3"
  }
 },
 "nbformat": 4,
 "nbformat_minor": 5
}
