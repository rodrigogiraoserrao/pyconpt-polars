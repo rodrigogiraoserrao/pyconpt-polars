{
 "cells": [
  {
   "cell_type": "markdown",
   "id": "cf9f8caf-2b0c-4470-9f7a-1ddfb31cddc7",
   "metadata": {},
   "source": [
    "# Advanced decorators\n",
    "\n",
    "## Plan\n",
    "\n",
    "1. Decorator recap.\n",
    "2. Decorators with arguments.\n",
    "3. Classes as decorators.\n",
    "4. Decorating classes."
   ]
  },
  {
   "cell_type": "markdown",
   "id": "db6b40f9-fc56-4273-b2d8-20a3ca9e47ee",
   "metadata": {},
   "source": [
    "## Reference material: https://decorators.mathspp.com/intro.html"
   ]
  },
  {
   "cell_type": "code",
   "execution_count": 1,
   "id": "698918e1-a48b-4c96-a4e4-5b930085952f",
   "metadata": {},
   "outputs": [],
   "source": [
    "import functools\n",
    "\n",
    "def decorator(function_to_decorate):  # 1\n",
    "    @functools.wraps(function_to_decorate)  # 3\n",
    "    # 2                # 4\n",
    "    def inner_function(*args, **kwargs):\n",
    "        ...  # 5\n",
    "        result = function_to_decorate(*args, **kwargs)  # 6\n",
    "        ...  # 7\n",
    "        return result  # 8\n",
    "\n",
    "    return inner_function  # 9"
   ]
  },
  {
   "cell_type": "code",
   "execution_count": 5,
   "id": "8b4bb2e6-2cc7-4384-8dc7-7fce157d92e2",
   "metadata": {},
   "outputs": [],
   "source": [
    "def decorator(f):\n",
    "    def wrapper(*args, **kwargs):\n",
    "        ...\n",
    "        result = f(*args, **kwargs)\n",
    "        ...\n",
    "        return result\n",
    "\n",
    "    return wrapper\n",
    "\n",
    "@decorator\n",
    "def foo():\n",
    "    pass\n",
    "\n",
    "# same as\n",
    "\n",
    "def foo():\n",
    "    \"\"\"Docstring.\"\"\"\n",
    "    pass\n",
    "\n",
    "foo = decorator(foo)"
   ]
  },
  {
   "cell_type": "code",
   "execution_count": 4,
   "id": "c3077f9e-16a5-4ccb-8926-1e7815cd8591",
   "metadata": {},
   "outputs": [
    {
     "data": {
      "text/plain": [
       "\u001b[31mSignature:\u001b[39m foo(*args, **kwargs)\n",
       "\u001b[31mDocstring:\u001b[39m <no docstring>\n",
       "\u001b[31mFile:\u001b[39m      /var/folders/29/cpfnqrmx0ll8m1vp9f9fmnx00000gn/T/ipykernel_10836/2138163077.py\n",
       "\u001b[31mType:\u001b[39m      function"
      ]
     },
     "metadata": {},
     "output_type": "display_data"
    }
   ],
   "source": [
    "?foo"
   ]
  },
  {
   "cell_type": "code",
   "execution_count": 9,
   "id": "40465f8d-dfa5-49bc-bb2c-b4fd305fe538",
   "metadata": {},
   "outputs": [
    {
     "data": {
      "text/plain": [
       "\u001b[31mSignature:\u001b[39m foo()\n",
       "\u001b[31mDocstring:\u001b[39m Docstring\n",
       "\u001b[31mFile:\u001b[39m      /var/folders/29/cpfnqrmx0ll8m1vp9f9fmnx00000gn/T/ipykernel_10836/1764871718.py\n",
       "\u001b[31mType:\u001b[39m      function"
      ]
     },
     "metadata": {},
     "output_type": "display_data"
    }
   ],
   "source": [
    "from functools import wraps\n",
    "\n",
    "def decorator(f):\n",
    "    @wraps(f)\n",
    "    def wrapper(*args, **kwargs):\n",
    "        ...\n",
    "        result = f(*args, **kwargs)\n",
    "        ...\n",
    "        return result\n",
    "\n",
    "    return wrapper\n",
    "\n",
    "@decorator\n",
    "def foo():\n",
    "    \"\"\"Docstring\"\"\"\n",
    "    pass\n",
    "\n",
    "?foo"
   ]
  },
  {
   "cell_type": "code",
   "execution_count": 13,
   "id": "0367d2fa-4c71-45c7-bc8e-3ed5760c468d",
   "metadata": {},
   "outputs": [],
   "source": [
    "import time\n",
    "\n",
    "def f():\n",
    "    time.sleep(1)\n",
    "    return 2"
   ]
  },
  {
   "cell_type": "code",
   "execution_count": 12,
   "id": "4c3c05a1-3d48-41b5-9f3f-94e4300444fc",
   "metadata": {},
   "outputs": [
    {
     "data": {
      "text/plain": [
       "2"
      ]
     },
     "execution_count": 12,
     "metadata": {},
     "output_type": "execute_result"
    }
   ],
   "source": [
    "f.__closure"
   ]
  },
  {
   "cell_type": "code",
   "execution_count": null,
   "id": "6979016b-192b-44b0-9512-22999d36cd1e",
   "metadata": {},
   "outputs": [],
   "source": []
  }
 ],
 "metadata": {
  "kernelspec": {
   "display_name": "Python 3 (ipykernel)",
   "language": "python",
   "name": "python3"
  },
  "language_info": {
   "codemirror_mode": {
    "name": "ipython",
    "version": 3
   },
   "file_extension": ".py",
   "mimetype": "text/x-python",
   "name": "python",
   "nbconvert_exporter": "python",
   "pygments_lexer": "ipython3",
   "version": "3.13.3"
  }
 },
 "nbformat": 4,
 "nbformat_minor": 5
}
