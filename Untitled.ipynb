{
 "cells": [
  {
   "cell_type": "markdown",
   "id": "418b396b-e647-4915-b9c7-1f5a702d75a7",
   "metadata": {},
   "source": [
    "# Repo\n",
    "\n",
    "github.com/rodrigogiraoserrao -> PyConPt-polars (most recent repo)\n",
    "\n",
    "# Data\n",
    "\n",
    "gist.github.com/rodrigogiraoserrao -> pokemon.csv (most recent gist)\n",
    "\n",
    "# Install polars\n",
    "\n",
    "Install polars so you can solve the exercises"
   ]
  },
  {
   "cell_type": "code",
   "execution_count": 1,
   "id": "1cc71e8d-9f71-4bce-9b20-9a738be39b53",
   "metadata": {},
   "outputs": [
    {
     "name": "stdout",
     "output_type": "stream",
     "text": [
      "Hello, world!\n"
     ]
    }
   ],
   "source": [
    "print(\"Hello, world!\")"
   ]
  },
  {
   "cell_type": "markdown",
   "id": "3c781809-d669-4363-82e0-7bff663da357",
   "metadata": {},
   "source": [
    "# Plan\n",
    "\n",
    "- Intro-level workshop.\n",
    "- Learn about the basics of Polars\n",
    "\n",
    "# Structure\n",
    "\n",
    "- 4 sections of 30' each\n",
    "- Each section has 15' “hands-on theory” + 15' for exercises\n",
    "\n",
    "1. The basic concepts of Polars: expressions & contexts\n",
    "2. Expression expansion\n",
    "3. Data transformations (joins)\n",
    "4. Lazy API (_the_ big selling point of Polars)"
   ]
  },
  {
   "cell_type": "code",
   "execution_count": null,
   "id": "1413597a-92c0-4a45-a61e-96a4dcd5f8e3",
   "metadata": {},
   "outputs": [],
   "source": []
  }
 ],
 "metadata": {
  "kernelspec": {
   "display_name": "Python 3 (ipykernel)",
   "language": "python",
   "name": "python3"
  },
  "language_info": {
   "codemirror_mode": {
    "name": "ipython",
    "version": 3
   },
   "file_extension": ".py",
   "mimetype": "text/x-python",
   "name": "python",
   "nbconvert_exporter": "python",
   "pygments_lexer": "ipython3",
   "version": "3.13.3"
  }
 },
 "nbformat": 4,
 "nbformat_minor": 5
}
