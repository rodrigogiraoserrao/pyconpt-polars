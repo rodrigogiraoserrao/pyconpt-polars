{
 "cells": [
  {
   "cell_type": "code",
   "execution_count": 2,
   "id": "8d3dbb36-3f20-4462-b3bb-bb04e0bccc6c",
   "metadata": {},
   "outputs": [
    {
     "name": "stdout",
     "output_type": "stream",
     "text": [
      "--------Version info---------\n",
      "Polars:              1.30.0\n",
      "Index type:          UInt32\n",
      "Platform:            macOS-15.5-arm64-arm-64bit-Mach-O\n",
      "Python:              3.13.3 (main, Apr  9 2025, 03:47:57) [Clang 20.1.0 ]\n",
      "LTS CPU:             False\n",
      "\n",
      "----Optional dependencies----\n",
      "Azure CLI            <not installed>\n",
      "adbc_driver_manager  <not installed>\n",
      "altair               <not installed>\n",
      "azure.identity       <not installed>\n",
      "boto3                <not installed>\n",
      "cloudpickle          <not installed>\n",
      "connectorx           <not installed>\n",
      "deltalake            <not installed>\n",
      "fastexcel            <not installed>\n",
      "fsspec               <not installed>\n",
      "gevent               <not installed>\n",
      "google.auth          <not installed>\n",
      "great_tables         <not installed>\n",
      "matplotlib           <not installed>\n",
      "numpy                2.2.6\n",
      "openpyxl             <not installed>\n",
      "pandas               2.2.3\n",
      "polars_cloud         <not installed>\n",
      "pyarrow              <not installed>\n",
      "pydantic             <not installed>\n",
      "pyiceberg            <not installed>\n",
      "sqlalchemy           <not installed>\n",
      "torch                <not installed>\n",
      "xlsx2csv             <not installed>\n",
      "xlsxwriter           <not installed>\n"
     ]
    }
   ],
   "source": [
    "import polars as pl\n",
    "pl.show_versions()"
   ]
  },
  {
   "cell_type": "code",
   "execution_count": 5,
   "id": "3ddfd2d0-3b37-4a2d-92a1-1a778a15de55",
   "metadata": {},
   "outputs": [],
   "source": [
    "pokemon = pl.read_csv(\"https://gist.githubusercontent.com/rodrigogiraoserrao/081547f4b9071d9e29423d31fe4ba978/raw/6adfb37b8bbc9eb7021fb1a19a40015c8cf0016b/pokemon.csv\")"
   ]
  },
  {
   "cell_type": "code",
   "execution_count": 7,
   "id": "33d2fd39-92f0-4fef-93db-c6da2244a7c9",
   "metadata": {},
   "outputs": [
    {
     "data": {
      "text/html": [
       "<div><style>\n",
       ".dataframe > thead > tr,\n",
       ".dataframe > tbody > tr {\n",
       "  text-align: right;\n",
       "  white-space: pre-wrap;\n",
       "}\n",
       "</style>\n",
       "<small>shape: (5, 55)</small><table border=\"1\" class=\"dataframe\"><thead><tr><th>national_number</th><th>gen</th><th>english_name</th><th>japanese_name</th><th>primary_type</th><th>secondary_type</th><th>classification</th><th>percent_male</th><th>percent_female</th><th>height_m</th><th>weight_kg</th><th>capture_rate</th><th>base_egg_steps</th><th>hp</th><th>attack</th><th>defense</th><th>sp_attack</th><th>sp_defense</th><th>speed</th><th>abilities_0</th><th>abilities_1</th><th>abilities_2</th><th>abilities_hidden</th><th>against_normal</th><th>against_fire</th><th>against_water</th><th>against_electric</th><th>against_grass</th><th>against_ice</th><th>against_fighting</th><th>against_poison</th><th>against_ground</th><th>against_flying</th><th>against_psychic</th><th>against_bug</th><th>against_rock</th><th>against_ghost</th><th>against_dragon</th><th>against_dark</th><th>against_steel</th><th>against_fairy</th><th>is_sublegendary</th><th>is_legendary</th><th>is_mythical</th><th>evochain_0</th><th>evochain_1</th><th>evochain_2</th><th>evochain_3</th><th>evochain_4</th><th>evochain_5</th><th>evochain_6</th><th>gigantamax</th><th>mega_evolution</th><th>mega_evolution_alt</th><th>description</th></tr><tr><td>i64</td><td>str</td><td>str</td><td>str</td><td>str</td><td>str</td><td>str</td><td>f64</td><td>f64</td><td>f64</td><td>f64</td><td>i64</td><td>i64</td><td>i64</td><td>i64</td><td>i64</td><td>i64</td><td>i64</td><td>i64</td><td>str</td><td>str</td><td>str</td><td>str</td><td>f64</td><td>f64</td><td>f64</td><td>f64</td><td>f64</td><td>f64</td><td>f64</td><td>f64</td><td>f64</td><td>f64</td><td>f64</td><td>f64</td><td>f64</td><td>f64</td><td>f64</td><td>f64</td><td>f64</td><td>f64</td><td>i64</td><td>i64</td><td>i64</td><td>str</td><td>str</td><td>str</td><td>str</td><td>str</td><td>str</td><td>str</td><td>str</td><td>str</td><td>str</td><td>str</td></tr></thead><tbody><tr><td>1</td><td>&quot;I&quot;</td><td>&quot;Bulbasaur&quot;</td><td>&quot;Fushigidane&quot;</td><td>&quot;grass&quot;</td><td>&quot;poison&quot;</td><td>&quot;Seed Pokémon&quot;</td><td>88.14</td><td>11.86</td><td>0.7</td><td>6.9</td><td>45</td><td>5120</td><td>45</td><td>49</td><td>49</td><td>65</td><td>65</td><td>45</td><td>&quot;Overgrow&quot;</td><td>null</td><td>null</td><td>&quot;Chlorophyll&quot;</td><td>1.0</td><td>2.0</td><td>0.5</td><td>0.5</td><td>0.25</td><td>2.0</td><td>0.5</td><td>1.0</td><td>1.0</td><td>2.0</td><td>2.0</td><td>1.0</td><td>1.0</td><td>1.0</td><td>1.0</td><td>1.0</td><td>1.0</td><td>0.5</td><td>0</td><td>0</td><td>0</td><td>&quot;Bulbasaur&quot;</td><td>&quot;Level &quot;</td><td>&quot;Ivysaur&quot;</td><td>&quot;Level &quot;</td><td>&quot;Venusaur&quot;</td><td>null</td><td>null</td><td>null</td><td>null</td><td>null</td><td>&quot;There is a plant seed on its b…</td></tr><tr><td>2</td><td>&quot;I&quot;</td><td>&quot;Ivysaur&quot;</td><td>&quot;Fushigisou&quot;</td><td>&quot;grass&quot;</td><td>&quot;poison&quot;</td><td>&quot;Seed Pokémon&quot;</td><td>88.14</td><td>11.86</td><td>1.0</td><td>13.0</td><td>45</td><td>5120</td><td>60</td><td>62</td><td>63</td><td>80</td><td>80</td><td>60</td><td>&quot;Overgrow&quot;</td><td>null</td><td>null</td><td>&quot;Chlorophyll&quot;</td><td>1.0</td><td>2.0</td><td>0.5</td><td>0.5</td><td>0.25</td><td>2.0</td><td>0.5</td><td>1.0</td><td>1.0</td><td>2.0</td><td>2.0</td><td>1.0</td><td>1.0</td><td>1.0</td><td>1.0</td><td>1.0</td><td>1.0</td><td>0.5</td><td>0</td><td>0</td><td>0</td><td>&quot;Bulbasaur&quot;</td><td>&quot;Level &quot;</td><td>&quot;Ivysaur&quot;</td><td>&quot;Level &quot;</td><td>&quot;Venusaur&quot;</td><td>null</td><td>null</td><td>null</td><td>null</td><td>null</td><td>&quot;When the bulb on its back grow…</td></tr><tr><td>3</td><td>&quot;I&quot;</td><td>&quot;Venusaur&quot;</td><td>&quot;Fushigibana&quot;</td><td>&quot;grass&quot;</td><td>&quot;poison&quot;</td><td>&quot;Seed Pokémon&quot;</td><td>88.14</td><td>11.86</td><td>2.0</td><td>100.0</td><td>45</td><td>5120</td><td>80</td><td>82</td><td>83</td><td>100</td><td>100</td><td>80</td><td>&quot;Overgrow&quot;</td><td>null</td><td>null</td><td>&quot;Chlorophyll&quot;</td><td>1.0</td><td>2.0</td><td>0.5</td><td>0.5</td><td>0.25</td><td>2.0</td><td>0.5</td><td>1.0</td><td>1.0</td><td>2.0</td><td>2.0</td><td>1.0</td><td>1.0</td><td>1.0</td><td>1.0</td><td>1.0</td><td>1.0</td><td>0.5</td><td>0</td><td>0</td><td>0</td><td>&quot;Bulbasaur&quot;</td><td>&quot;Level &quot;</td><td>&quot;Ivysaur&quot;</td><td>&quot;Level &quot;</td><td>&quot;Venusaur&quot;</td><td>null</td><td>null</td><td>&quot;Gigantamax Venusaur&quot;</td><td>&quot;Mega Venusaur&quot;</td><td>null</td><td>&quot;Its plant blooms when it is ab…</td></tr><tr><td>4</td><td>&quot;I&quot;</td><td>&quot;Charmander&quot;</td><td>&quot;Hitokage&quot;</td><td>&quot;fire&quot;</td><td>null</td><td>&quot;Lizard Pokémon&quot;</td><td>88.14</td><td>11.86</td><td>0.6</td><td>8.5</td><td>45</td><td>5120</td><td>39</td><td>52</td><td>43</td><td>60</td><td>50</td><td>65</td><td>&quot;Blaze&quot;</td><td>null</td><td>null</td><td>&quot;Solar Power&quot;</td><td>1.0</td><td>0.5</td><td>2.0</td><td>1.0</td><td>0.5</td><td>0.5</td><td>1.0</td><td>1.0</td><td>2.0</td><td>1.0</td><td>1.0</td><td>0.5</td><td>2.0</td><td>1.0</td><td>1.0</td><td>1.0</td><td>0.5</td><td>0.5</td><td>0</td><td>0</td><td>0</td><td>&quot;Charmander&quot;</td><td>&quot;Level &quot;</td><td>&quot;Charmeleon&quot;</td><td>&quot;Level &quot;</td><td>&quot;Charizard&quot;</td><td>null</td><td>null</td><td>null</td><td>null</td><td>null</td><td>&quot;It has a preference for hot th…</td></tr><tr><td>5</td><td>&quot;I&quot;</td><td>&quot;Charmeleon&quot;</td><td>&quot;Lizardo&quot;</td><td>&quot;fire&quot;</td><td>null</td><td>&quot;Flame Pokémon&quot;</td><td>88.14</td><td>11.86</td><td>1.1</td><td>19.0</td><td>45</td><td>5120</td><td>58</td><td>64</td><td>58</td><td>80</td><td>65</td><td>80</td><td>&quot;Blaze&quot;</td><td>null</td><td>null</td><td>&quot;Solar Power&quot;</td><td>1.0</td><td>0.5</td><td>2.0</td><td>1.0</td><td>0.5</td><td>0.5</td><td>1.0</td><td>1.0</td><td>2.0</td><td>1.0</td><td>1.0</td><td>0.5</td><td>2.0</td><td>1.0</td><td>1.0</td><td>1.0</td><td>0.5</td><td>0.5</td><td>0</td><td>0</td><td>0</td><td>&quot;Charmander&quot;</td><td>&quot;Level &quot;</td><td>&quot;Charmeleon&quot;</td><td>&quot;Level &quot;</td><td>&quot;Charizard&quot;</td><td>null</td><td>null</td><td>null</td><td>null</td><td>null</td><td>&quot;It has a barbaric nature. In b…</td></tr></tbody></table></div>"
      ],
      "text/plain": [
       "shape: (5, 55)\n",
       "┌────────────┬─────┬────────────┬────────────┬───┬────────────┬────────────┬───────────┬───────────┐\n",
       "│ national_n ┆ gen ┆ english_na ┆ japanese_n ┆ … ┆ gigantamax ┆ mega_evolu ┆ mega_evol ┆ descripti │\n",
       "│ umber      ┆ --- ┆ me         ┆ ame        ┆   ┆ ---        ┆ tion       ┆ ution_alt ┆ on        │\n",
       "│ ---        ┆ str ┆ ---        ┆ ---        ┆   ┆ str        ┆ ---        ┆ ---       ┆ ---       │\n",
       "│ i64        ┆     ┆ str        ┆ str        ┆   ┆            ┆ str        ┆ str       ┆ str       │\n",
       "╞════════════╪═════╪════════════╪════════════╪═══╪════════════╪════════════╪═══════════╪═══════════╡\n",
       "│ 1          ┆ I   ┆ Bulbasaur  ┆ Fushigidan ┆ … ┆ null       ┆ null       ┆ null      ┆ There is  │\n",
       "│            ┆     ┆            ┆ e          ┆   ┆            ┆            ┆           ┆ a plant   │\n",
       "│            ┆     ┆            ┆            ┆   ┆            ┆            ┆           ┆ seed on   │\n",
       "│            ┆     ┆            ┆            ┆   ┆            ┆            ┆           ┆ its b…    │\n",
       "│ 2          ┆ I   ┆ Ivysaur    ┆ Fushigisou ┆ … ┆ null       ┆ null       ┆ null      ┆ When the  │\n",
       "│            ┆     ┆            ┆            ┆   ┆            ┆            ┆           ┆ bulb on   │\n",
       "│            ┆     ┆            ┆            ┆   ┆            ┆            ┆           ┆ its back  │\n",
       "│            ┆     ┆            ┆            ┆   ┆            ┆            ┆           ┆ grow…     │\n",
       "│ 3          ┆ I   ┆ Venusaur   ┆ Fushigiban ┆ … ┆ Gigantamax ┆ Mega       ┆ null      ┆ Its plant │\n",
       "│            ┆     ┆            ┆ a          ┆   ┆ Venusaur   ┆ Venusaur   ┆           ┆ blooms    │\n",
       "│            ┆     ┆            ┆            ┆   ┆            ┆            ┆           ┆ when it   │\n",
       "│            ┆     ┆            ┆            ┆   ┆            ┆            ┆           ┆ is ab…    │\n",
       "│ 4          ┆ I   ┆ Charmander ┆ Hitokage   ┆ … ┆ null       ┆ null       ┆ null      ┆ It has a  │\n",
       "│            ┆     ┆            ┆            ┆   ┆            ┆            ┆           ┆ preferenc │\n",
       "│            ┆     ┆            ┆            ┆   ┆            ┆            ┆           ┆ e for hot │\n",
       "│            ┆     ┆            ┆            ┆   ┆            ┆            ┆           ┆ th…       │\n",
       "│ 5          ┆ I   ┆ Charmeleon ┆ Lizardo    ┆ … ┆ null       ┆ null       ┆ null      ┆ It has a  │\n",
       "│            ┆     ┆            ┆            ┆   ┆            ┆            ┆           ┆ barbaric  │\n",
       "│            ┆     ┆            ┆            ┆   ┆            ┆            ┆           ┆ nature.   │\n",
       "│            ┆     ┆            ┆            ┆   ┆            ┆            ┆           ┆ In b…     │\n",
       "└────────────┴─────┴────────────┴────────────┴───┴────────────┴────────────┴───────────┴───────────┘"
      ]
     },
     "execution_count": 7,
     "metadata": {},
     "output_type": "execute_result"
    }
   ],
   "source": [
    "pokemon.head()"
   ]
  },
  {
   "cell_type": "code",
   "execution_count": 8,
   "id": "02f01ba5-3c52-4688-80fa-4ca28ea9f69e",
   "metadata": {},
   "outputs": [
    {
     "data": {
      "text/plain": [
       "['national_number',\n",
       " 'gen',\n",
       " 'english_name',\n",
       " 'japanese_name',\n",
       " 'primary_type',\n",
       " 'secondary_type',\n",
       " 'classification',\n",
       " 'percent_male',\n",
       " 'percent_female',\n",
       " 'height_m',\n",
       " 'weight_kg',\n",
       " 'capture_rate',\n",
       " 'base_egg_steps',\n",
       " 'hp',\n",
       " 'attack',\n",
       " 'defense',\n",
       " 'sp_attack',\n",
       " 'sp_defense',\n",
       " 'speed',\n",
       " 'abilities_0',\n",
       " 'abilities_1',\n",
       " 'abilities_2',\n",
       " 'abilities_hidden',\n",
       " 'against_normal',\n",
       " 'against_fire',\n",
       " 'against_water',\n",
       " 'against_electric',\n",
       " 'against_grass',\n",
       " 'against_ice',\n",
       " 'against_fighting',\n",
       " 'against_poison',\n",
       " 'against_ground',\n",
       " 'against_flying',\n",
       " 'against_psychic',\n",
       " 'against_bug',\n",
       " 'against_rock',\n",
       " 'against_ghost',\n",
       " 'against_dragon',\n",
       " 'against_dark',\n",
       " 'against_steel',\n",
       " 'against_fairy',\n",
       " 'is_sublegendary',\n",
       " 'is_legendary',\n",
       " 'is_mythical',\n",
       " 'evochain_0',\n",
       " 'evochain_1',\n",
       " 'evochain_2',\n",
       " 'evochain_3',\n",
       " 'evochain_4',\n",
       " 'evochain_5',\n",
       " 'evochain_6',\n",
       " 'gigantamax',\n",
       " 'mega_evolution',\n",
       " 'mega_evolution_alt',\n",
       " 'description']"
      ]
     },
     "execution_count": 8,
     "metadata": {},
     "output_type": "execute_result"
    }
   ],
   "source": [
    "pokemon.columns"
   ]
  },
  {
   "cell_type": "code",
   "execution_count": 15,
   "id": "aafbc3f6-e29a-485e-a387-800975a8c069",
   "metadata": {},
   "outputs": [
    {
     "data": {
      "text/html": [
       "<div><style>\n",
       ".dataframe > thead > tr,\n",
       ".dataframe > tbody > tr {\n",
       "  text-align: right;\n",
       "  white-space: pre-wrap;\n",
       "}\n",
       "</style>\n",
       "<small>shape: (18, 4)</small><table border=\"1\" class=\"dataframe\"><thead><tr><th>primary_type</th><th>attack</th><th>speed</th><th>how many</th></tr><tr><td>str</td><td>f64</td><td>f64</td><td>u32</td></tr></thead><tbody><tr><td>&quot;flying&quot;</td><td>71.571429</td><td>82.142857</td><td>7</td></tr><tr><td>&quot;fairy&quot;</td><td>63.238095</td><td>55.333333</td><td>21</td></tr><tr><td>&quot;ice&quot;</td><td>73.071429</td><td>59.214286</td><td>28</td></tr><tr><td>&quot;steel&quot;</td><td>88.566667</td><td>53.033333</td><td>30</td></tr><tr><td>&quot;dragon&quot;</td><td>98.806452</td><td>78.741935</td><td>31</td></tr><tr><td>&hellip;</td><td>&hellip;</td><td>&hellip;</td><td>&hellip;</td></tr><tr><td>&quot;psychic&quot;</td><td>63.534483</td><td>71.465517</td><td>58</td></tr><tr><td>&quot;bug&quot;</td><td>66.253333</td><td>62.026667</td><td>75</td></tr><tr><td>&quot;grass&quot;</td><td>72.767442</td><td>58.27907</td><td>86</td></tr><tr><td>&quot;normal&quot;</td><td>73.862385</td><td>67.926606</td><td>109</td></tr><tr><td>&quot;water&quot;</td><td>71.195122</td><td>65.01626</td><td>123</td></tr></tbody></table></div>"
      ],
      "text/plain": [
       "shape: (18, 4)\n",
       "┌──────────────┬───────────┬───────────┬──────────┐\n",
       "│ primary_type ┆ attack    ┆ speed     ┆ how many │\n",
       "│ ---          ┆ ---       ┆ ---       ┆ ---      │\n",
       "│ str          ┆ f64       ┆ f64       ┆ u32      │\n",
       "╞══════════════╪═══════════╪═══════════╪══════════╡\n",
       "│ flying       ┆ 71.571429 ┆ 82.142857 ┆ 7        │\n",
       "│ fairy        ┆ 63.238095 ┆ 55.333333 ┆ 21       │\n",
       "│ ice          ┆ 73.071429 ┆ 59.214286 ┆ 28       │\n",
       "│ steel        ┆ 88.566667 ┆ 53.033333 ┆ 30       │\n",
       "│ dragon       ┆ 98.806452 ┆ 78.741935 ┆ 31       │\n",
       "│ …            ┆ …         ┆ …         ┆ …        │\n",
       "│ psychic      ┆ 63.534483 ┆ 71.465517 ┆ 58       │\n",
       "│ bug          ┆ 66.253333 ┆ 62.026667 ┆ 75       │\n",
       "│ grass        ┆ 72.767442 ┆ 58.27907  ┆ 86       │\n",
       "│ normal       ┆ 73.862385 ┆ 67.926606 ┆ 109      │\n",
       "│ water        ┆ 71.195122 ┆ 65.01626  ┆ 123      │\n",
       "└──────────────┴───────────┴───────────┴──────────┘"
      ]
     },
     "execution_count": 15,
     "metadata": {},
     "output_type": "execute_result"
    }
   ],
   "source": [
    "pokemon.group_by(\n",
    "    pl.col(\"primary_type\"),\n",
    ").agg(\n",
    "    pl.col(\"attack\").mean(),\n",
    "    pl.col(\"speed\").mean(),\n",
    "    pl.len().alias(\"how many\"),\n",
    ").sort(by=pl.col(\"how many\"))"
   ]
  },
  {
   "cell_type": "code",
   "execution_count": 25,
   "id": "a4b8334b-253b-483b-a74a-b8865deca230",
   "metadata": {},
   "outputs": [
    {
     "data": {
      "text/html": [
       "<div><style>\n",
       ".dataframe > thead > tr,\n",
       ".dataframe > tbody > tr {\n",
       "  text-align: right;\n",
       "  white-space: pre-wrap;\n",
       "}\n",
       "</style>\n",
       "<small>shape: (898, 12)</small><table border=\"1\" class=\"dataframe\"><thead><tr><th>NATIONAL_NUMBER</th><th>CAPTURE_RATE</th><th>BASE_EGG_STEPS</th><th>HP</th><th>ATTACK</th><th>DEFENSE</th><th>SP_ATTACK</th><th>SP_DEFENSE</th><th>SPEED</th><th>IS_SUBLEGENDARY</th><th>IS_LEGENDARY</th><th>IS_MYTHICAL</th></tr><tr><td>i64</td><td>i64</td><td>i64</td><td>i64</td><td>i64</td><td>i64</td><td>i64</td><td>i64</td><td>i64</td><td>i64</td><td>i64</td><td>i64</td></tr></thead><tbody><tr><td>1</td><td>45</td><td>5120</td><td>45</td><td>49</td><td>49</td><td>65</td><td>65</td><td>45</td><td>0</td><td>0</td><td>0</td></tr><tr><td>2</td><td>45</td><td>5120</td><td>60</td><td>62</td><td>63</td><td>80</td><td>80</td><td>60</td><td>0</td><td>0</td><td>0</td></tr><tr><td>3</td><td>45</td><td>5120</td><td>80</td><td>82</td><td>83</td><td>100</td><td>100</td><td>80</td><td>0</td><td>0</td><td>0</td></tr><tr><td>4</td><td>45</td><td>5120</td><td>39</td><td>52</td><td>43</td><td>60</td><td>50</td><td>65</td><td>0</td><td>0</td><td>0</td></tr><tr><td>5</td><td>45</td><td>5120</td><td>58</td><td>64</td><td>58</td><td>80</td><td>65</td><td>80</td><td>0</td><td>0</td><td>0</td></tr><tr><td>&hellip;</td><td>&hellip;</td><td>&hellip;</td><td>&hellip;</td><td>&hellip;</td><td>&hellip;</td><td>&hellip;</td><td>&hellip;</td><td>&hellip;</td><td>&hellip;</td><td>&hellip;</td><td>&hellip;</td></tr><tr><td>894</td><td>3</td><td>30720</td><td>80</td><td>100</td><td>50</td><td>100</td><td>50</td><td>200</td><td>1</td><td>0</td><td>0</td></tr><tr><td>895</td><td>3</td><td>30720</td><td>200</td><td>100</td><td>50</td><td>100</td><td>50</td><td>80</td><td>1</td><td>0</td><td>0</td></tr><tr><td>896</td><td>3</td><td>30720</td><td>100</td><td>145</td><td>130</td><td>65</td><td>110</td><td>30</td><td>1</td><td>0</td><td>0</td></tr><tr><td>897</td><td>3</td><td>30720</td><td>100</td><td>65</td><td>60</td><td>145</td><td>80</td><td>130</td><td>0</td><td>0</td><td>0</td></tr><tr><td>898</td><td>3</td><td>30720</td><td>100</td><td>80</td><td>80</td><td>80</td><td>80</td><td>80</td><td>0</td><td>0</td><td>0</td></tr></tbody></table></div>"
      ],
      "text/plain": [
       "shape: (898, 12)\n",
       "┌─────────────┬─────────────┬─────────────┬─────┬───┬───────┬────────────┬────────────┬────────────┐\n",
       "│ NATIONAL_NU ┆ CAPTURE_RAT ┆ BASE_EGG_ST ┆ HP  ┆ … ┆ SPEED ┆ IS_SUBLEGE ┆ IS_LEGENDA ┆ IS_MYTHICA │\n",
       "│ MBER        ┆ E           ┆ EPS         ┆ --- ┆   ┆ ---   ┆ NDARY      ┆ RY         ┆ L          │\n",
       "│ ---         ┆ ---         ┆ ---         ┆ i64 ┆   ┆ i64   ┆ ---        ┆ ---        ┆ ---        │\n",
       "│ i64         ┆ i64         ┆ i64         ┆     ┆   ┆       ┆ i64        ┆ i64        ┆ i64        │\n",
       "╞═════════════╪═════════════╪═════════════╪═════╪═══╪═══════╪════════════╪════════════╪════════════╡\n",
       "│ 1           ┆ 45          ┆ 5120        ┆ 45  ┆ … ┆ 45    ┆ 0          ┆ 0          ┆ 0          │\n",
       "│ 2           ┆ 45          ┆ 5120        ┆ 60  ┆ … ┆ 60    ┆ 0          ┆ 0          ┆ 0          │\n",
       "│ 3           ┆ 45          ┆ 5120        ┆ 80  ┆ … ┆ 80    ┆ 0          ┆ 0          ┆ 0          │\n",
       "│ 4           ┆ 45          ┆ 5120        ┆ 39  ┆ … ┆ 65    ┆ 0          ┆ 0          ┆ 0          │\n",
       "│ 5           ┆ 45          ┆ 5120        ┆ 58  ┆ … ┆ 80    ┆ 0          ┆ 0          ┆ 0          │\n",
       "│ …           ┆ …           ┆ …           ┆ …   ┆ … ┆ …     ┆ …          ┆ …          ┆ …          │\n",
       "│ 894         ┆ 3           ┆ 30720       ┆ 80  ┆ … ┆ 200   ┆ 1          ┆ 0          ┆ 0          │\n",
       "│ 895         ┆ 3           ┆ 30720       ┆ 200 ┆ … ┆ 80    ┆ 1          ┆ 0          ┆ 0          │\n",
       "│ 896         ┆ 3           ┆ 30720       ┆ 100 ┆ … ┆ 30    ┆ 1          ┆ 0          ┆ 0          │\n",
       "│ 897         ┆ 3           ┆ 30720       ┆ 100 ┆ … ┆ 130   ┆ 0          ┆ 0          ┆ 0          │\n",
       "│ 898         ┆ 3           ┆ 30720       ┆ 100 ┆ … ┆ 80    ┆ 0          ┆ 0          ┆ 0          │\n",
       "└─────────────┴─────────────┴─────────────┴─────┴───┴───────┴────────────┴────────────┴────────────┘"
      ]
     },
     "execution_count": 25,
     "metadata": {},
     "output_type": "execute_result"
    }
   ],
   "source": [
    "pokemon.select(pl.col(pl.Int64).name.map(lambda s: s.upper()))"
   ]
  },
  {
   "cell_type": "code",
   "execution_count": 34,
   "id": "9f3f5582-c749-46d0-b666-658fa935f920",
   "metadata": {},
   "outputs": [],
   "source": [
    "sub1 = pokemon.sample(200).select(pl.col(\"english_name\", \"attack\"))\n",
    "sub2 = pokemon.sample(200).select(pl.col(\"english_name\", \"speed\"))"
   ]
  },
  {
   "cell_type": "code",
   "execution_count": 38,
   "id": "dc63f058-e476-46f4-aee8-6f3f50acfdda",
   "metadata": {},
   "outputs": [
    {
     "data": {
      "text/html": [
       "<div><style>\n",
       ".dataframe > thead > tr,\n",
       ".dataframe > tbody > tr {\n",
       "  text-align: right;\n",
       "  white-space: pre-wrap;\n",
       "}\n",
       "</style>\n",
       "<small>shape: (363, 3)</small><table border=\"1\" class=\"dataframe\"><thead><tr><th>english_name</th><th>attack</th><th>speed</th></tr><tr><td>str</td><td>i64</td><td>i64</td></tr></thead><tbody><tr><td>&quot;Heatmor&quot;</td><td>97</td><td>65</td></tr><tr><td>&quot;Amoonguss&quot;</td><td>null</td><td>30</td></tr><tr><td>&quot;Cottonee&quot;</td><td>null</td><td>66</td></tr><tr><td>&quot;Oranguru&quot;</td><td>null</td><td>60</td></tr><tr><td>&quot;Cinderace&quot;</td><td>null</td><td>119</td></tr><tr><td>&hellip;</td><td>&hellip;</td><td>&hellip;</td></tr><tr><td>&quot;Honchkrow&quot;</td><td>125</td><td>null</td></tr><tr><td>&quot;Xerneas&quot;</td><td>131</td><td>null</td></tr><tr><td>&quot;Slaking&quot;</td><td>160</td><td>null</td></tr><tr><td>&quot;Tyrunt&quot;</td><td>89</td><td>null</td></tr><tr><td>&quot;Ducklett&quot;</td><td>44</td><td>null</td></tr></tbody></table></div>"
      ],
      "text/plain": [
       "shape: (363, 3)\n",
       "┌──────────────┬────────┬───────┐\n",
       "│ english_name ┆ attack ┆ speed │\n",
       "│ ---          ┆ ---    ┆ ---   │\n",
       "│ str          ┆ i64    ┆ i64   │\n",
       "╞══════════════╪════════╪═══════╡\n",
       "│ Heatmor      ┆ 97     ┆ 65    │\n",
       "│ Amoonguss    ┆ null   ┆ 30    │\n",
       "│ Cottonee     ┆ null   ┆ 66    │\n",
       "│ Oranguru     ┆ null   ┆ 60    │\n",
       "│ Cinderace    ┆ null   ┆ 119   │\n",
       "│ …            ┆ …      ┆ …     │\n",
       "│ Honchkrow    ┆ 125    ┆ null  │\n",
       "│ Xerneas      ┆ 131    ┆ null  │\n",
       "│ Slaking      ┆ 160    ┆ null  │\n",
       "│ Tyrunt       ┆ 89     ┆ null  │\n",
       "│ Ducklett     ┆ 44     ┆ null  │\n",
       "└──────────────┴────────┴───────┘"
      ]
     },
     "execution_count": 38,
     "metadata": {},
     "output_type": "execute_result"
    }
   ],
   "source": [
    "sub1.join(sub2, on=\"english_name\", how=\"full\", coalesce=True)"
   ]
  },
  {
   "cell_type": "code",
   "execution_count": null,
   "id": "c3421c63-1149-4403-8915-b45c7f8590fc",
   "metadata": {},
   "outputs": [],
   "source": []
  }
 ],
 "metadata": {
  "kernelspec": {
   "display_name": "Python 3 (ipykernel)",
   "language": "python",
   "name": "python3"
  },
  "language_info": {
   "codemirror_mode": {
    "name": "ipython",
    "version": 3
   },
   "file_extension": ".py",
   "mimetype": "text/x-python",
   "name": "python",
   "nbconvert_exporter": "python",
   "pygments_lexer": "ipython3",
   "version": "3.13.3"
  }
 },
 "nbformat": 4,
 "nbformat_minor": 5
}
