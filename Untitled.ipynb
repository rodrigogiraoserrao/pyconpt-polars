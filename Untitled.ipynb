{
 "cells": [
  {
   "cell_type": "markdown",
   "id": "418b396b-e647-4915-b9c7-1f5a702d75a7",
   "metadata": {},
   "source": [
    "# Repo\n",
    "\n",
    "github.com/rodrigogiraoserrao -> PyConPt-polars (most recent repo)\n",
    "\n",
    "# Data\n",
    "\n",
    "gist.github.com/rodrigogiraoserrao -> pokemon.csv (most recent gist)\n",
    "\n",
    "# Install polars\n",
    "\n",
    "Install polars so you can solve the exercises"
   ]
  },
  {
   "cell_type": "code",
   "execution_count": 1,
   "id": "1cc71e8d-9f71-4bce-9b20-9a738be39b53",
   "metadata": {},
   "outputs": [
    {
     "name": "stdout",
     "output_type": "stream",
     "text": [
      "Hello, world!\n"
     ]
    }
   ],
   "source": [
    "print(\"Hello, world!\")"
   ]
  },
  {
   "cell_type": "markdown",
   "id": "3c781809-d669-4363-82e0-7bff663da357",
   "metadata": {},
   "source": [
    "# Plan\n",
    "\n",
    "- Intro-level workshop.\n",
    "- Learn about the basics of Polars\n",
    "\n",
    "# Structure\n",
    "\n",
    "- 4 sections of 30' each\n",
    "- Each section has 15' “hands-on theory” + 15' for exercises\n",
    "\n",
    "1. The basic concepts of Polars: expressions & contexts\n",
    "2. Expression expansion\n",
    "3. Data transformations (joins)\n",
    "4. Lazy API (_the_ big selling point of Polars)"
   ]
  },
  {
   "cell_type": "code",
   "execution_count": 2,
   "id": "1413597a-92c0-4a45-a61e-96a4dcd5f8e3",
   "metadata": {},
   "outputs": [],
   "source": [
    "import polars as pl  # shorthand"
   ]
  },
  {
   "cell_type": "code",
   "execution_count": 4,
   "id": "35e19a0e-c4ce-4b08-bb5b-8345ffdec015",
   "metadata": {},
   "outputs": [
    {
     "name": "stdout",
     "output_type": "stream",
     "text": [
      "--------Version info---------\n",
      "Polars:              1.30.0\n",
      "Index type:          UInt32\n",
      "Platform:            macOS-15.5-arm64-arm-64bit-Mach-O\n",
      "Python:              3.13.3 (main, Apr  9 2025, 03:47:57) [Clang 20.1.0 ]\n",
      "LTS CPU:             False\n",
      "\n",
      "----Optional dependencies----\n",
      "Azure CLI            <not installed>\n",
      "adbc_driver_manager  <not installed>\n",
      "altair               <not installed>\n",
      "azure.identity       <not installed>\n",
      "boto3                <not installed>\n",
      "cloudpickle          <not installed>\n",
      "connectorx           <not installed>\n",
      "deltalake            <not installed>\n",
      "fastexcel            <not installed>\n",
      "fsspec               <not installed>\n",
      "gevent               <not installed>\n",
      "google.auth          <not installed>\n",
      "great_tables         <not installed>\n",
      "matplotlib           <not installed>\n",
      "numpy                2.2.6\n",
      "openpyxl             <not installed>\n",
      "pandas               2.2.3\n",
      "polars_cloud         <not installed>\n",
      "pyarrow              <not installed>\n",
      "pydantic             <not installed>\n",
      "pyiceberg            <not installed>\n",
      "sqlalchemy           <not installed>\n",
      "torch                <not installed>\n",
      "xlsx2csv             <not installed>\n",
      "xlsxwriter           <not installed>\n"
     ]
    }
   ],
   "source": [
    "pl.show_versions()"
   ]
  },
  {
   "cell_type": "markdown",
   "id": "769db1f1-9824-475c-a81c-03f3a52c9722",
   "metadata": {},
   "source": [
    "# Load CSV data"
   ]
  },
  {
   "cell_type": "code",
   "execution_count": 5,
   "id": "8ab8cc43-c8f0-46ac-a194-eabbb23311a1",
   "metadata": {},
   "outputs": [],
   "source": [
    "pokemon = pl.read_csv(\"https://gist.githubusercontent.com/rodrigogiraoserrao/081547f4b9071d9e29423d31fe4ba978/raw/6adfb37b8bbc9eb7021fb1a19a40015c8cf0016b/pokemon.csv\")"
   ]
  },
  {
   "cell_type": "code",
   "execution_count": 6,
   "id": "25e11aa0-9300-4bb5-af5b-af4b32db47b1",
   "metadata": {},
   "outputs": [
    {
     "data": {
      "text/html": [
       "<div><style>\n",
       ".dataframe > thead > tr,\n",
       ".dataframe > tbody > tr {\n",
       "  text-align: right;\n",
       "  white-space: pre-wrap;\n",
       "}\n",
       "</style>\n",
       "<small>shape: (5, 55)</small><table border=\"1\" class=\"dataframe\"><thead><tr><th>national_number</th><th>gen</th><th>english_name</th><th>japanese_name</th><th>primary_type</th><th>secondary_type</th><th>classification</th><th>percent_male</th><th>percent_female</th><th>height_m</th><th>weight_kg</th><th>capture_rate</th><th>base_egg_steps</th><th>hp</th><th>attack</th><th>defense</th><th>sp_attack</th><th>sp_defense</th><th>speed</th><th>abilities_0</th><th>abilities_1</th><th>abilities_2</th><th>abilities_hidden</th><th>against_normal</th><th>against_fire</th><th>against_water</th><th>against_electric</th><th>against_grass</th><th>against_ice</th><th>against_fighting</th><th>against_poison</th><th>against_ground</th><th>against_flying</th><th>against_psychic</th><th>against_bug</th><th>against_rock</th><th>against_ghost</th><th>against_dragon</th><th>against_dark</th><th>against_steel</th><th>against_fairy</th><th>is_sublegendary</th><th>is_legendary</th><th>is_mythical</th><th>evochain_0</th><th>evochain_1</th><th>evochain_2</th><th>evochain_3</th><th>evochain_4</th><th>evochain_5</th><th>evochain_6</th><th>gigantamax</th><th>mega_evolution</th><th>mega_evolution_alt</th><th>description</th></tr><tr><td>i64</td><td>str</td><td>str</td><td>str</td><td>str</td><td>str</td><td>str</td><td>f64</td><td>f64</td><td>f64</td><td>f64</td><td>i64</td><td>i64</td><td>i64</td><td>i64</td><td>i64</td><td>i64</td><td>i64</td><td>i64</td><td>str</td><td>str</td><td>str</td><td>str</td><td>f64</td><td>f64</td><td>f64</td><td>f64</td><td>f64</td><td>f64</td><td>f64</td><td>f64</td><td>f64</td><td>f64</td><td>f64</td><td>f64</td><td>f64</td><td>f64</td><td>f64</td><td>f64</td><td>f64</td><td>f64</td><td>i64</td><td>i64</td><td>i64</td><td>str</td><td>str</td><td>str</td><td>str</td><td>str</td><td>str</td><td>str</td><td>str</td><td>str</td><td>str</td><td>str</td></tr></thead><tbody><tr><td>1</td><td>&quot;I&quot;</td><td>&quot;Bulbasaur&quot;</td><td>&quot;Fushigidane&quot;</td><td>&quot;grass&quot;</td><td>&quot;poison&quot;</td><td>&quot;Seed Pokémon&quot;</td><td>88.14</td><td>11.86</td><td>0.7</td><td>6.9</td><td>45</td><td>5120</td><td>45</td><td>49</td><td>49</td><td>65</td><td>65</td><td>45</td><td>&quot;Overgrow&quot;</td><td>null</td><td>null</td><td>&quot;Chlorophyll&quot;</td><td>1.0</td><td>2.0</td><td>0.5</td><td>0.5</td><td>0.25</td><td>2.0</td><td>0.5</td><td>1.0</td><td>1.0</td><td>2.0</td><td>2.0</td><td>1.0</td><td>1.0</td><td>1.0</td><td>1.0</td><td>1.0</td><td>1.0</td><td>0.5</td><td>0</td><td>0</td><td>0</td><td>&quot;Bulbasaur&quot;</td><td>&quot;Level &quot;</td><td>&quot;Ivysaur&quot;</td><td>&quot;Level &quot;</td><td>&quot;Venusaur&quot;</td><td>null</td><td>null</td><td>null</td><td>null</td><td>null</td><td>&quot;There is a plant seed on its b…</td></tr><tr><td>2</td><td>&quot;I&quot;</td><td>&quot;Ivysaur&quot;</td><td>&quot;Fushigisou&quot;</td><td>&quot;grass&quot;</td><td>&quot;poison&quot;</td><td>&quot;Seed Pokémon&quot;</td><td>88.14</td><td>11.86</td><td>1.0</td><td>13.0</td><td>45</td><td>5120</td><td>60</td><td>62</td><td>63</td><td>80</td><td>80</td><td>60</td><td>&quot;Overgrow&quot;</td><td>null</td><td>null</td><td>&quot;Chlorophyll&quot;</td><td>1.0</td><td>2.0</td><td>0.5</td><td>0.5</td><td>0.25</td><td>2.0</td><td>0.5</td><td>1.0</td><td>1.0</td><td>2.0</td><td>2.0</td><td>1.0</td><td>1.0</td><td>1.0</td><td>1.0</td><td>1.0</td><td>1.0</td><td>0.5</td><td>0</td><td>0</td><td>0</td><td>&quot;Bulbasaur&quot;</td><td>&quot;Level &quot;</td><td>&quot;Ivysaur&quot;</td><td>&quot;Level &quot;</td><td>&quot;Venusaur&quot;</td><td>null</td><td>null</td><td>null</td><td>null</td><td>null</td><td>&quot;When the bulb on its back grow…</td></tr><tr><td>3</td><td>&quot;I&quot;</td><td>&quot;Venusaur&quot;</td><td>&quot;Fushigibana&quot;</td><td>&quot;grass&quot;</td><td>&quot;poison&quot;</td><td>&quot;Seed Pokémon&quot;</td><td>88.14</td><td>11.86</td><td>2.0</td><td>100.0</td><td>45</td><td>5120</td><td>80</td><td>82</td><td>83</td><td>100</td><td>100</td><td>80</td><td>&quot;Overgrow&quot;</td><td>null</td><td>null</td><td>&quot;Chlorophyll&quot;</td><td>1.0</td><td>2.0</td><td>0.5</td><td>0.5</td><td>0.25</td><td>2.0</td><td>0.5</td><td>1.0</td><td>1.0</td><td>2.0</td><td>2.0</td><td>1.0</td><td>1.0</td><td>1.0</td><td>1.0</td><td>1.0</td><td>1.0</td><td>0.5</td><td>0</td><td>0</td><td>0</td><td>&quot;Bulbasaur&quot;</td><td>&quot;Level &quot;</td><td>&quot;Ivysaur&quot;</td><td>&quot;Level &quot;</td><td>&quot;Venusaur&quot;</td><td>null</td><td>null</td><td>&quot;Gigantamax Venusaur&quot;</td><td>&quot;Mega Venusaur&quot;</td><td>null</td><td>&quot;Its plant blooms when it is ab…</td></tr><tr><td>4</td><td>&quot;I&quot;</td><td>&quot;Charmander&quot;</td><td>&quot;Hitokage&quot;</td><td>&quot;fire&quot;</td><td>null</td><td>&quot;Lizard Pokémon&quot;</td><td>88.14</td><td>11.86</td><td>0.6</td><td>8.5</td><td>45</td><td>5120</td><td>39</td><td>52</td><td>43</td><td>60</td><td>50</td><td>65</td><td>&quot;Blaze&quot;</td><td>null</td><td>null</td><td>&quot;Solar Power&quot;</td><td>1.0</td><td>0.5</td><td>2.0</td><td>1.0</td><td>0.5</td><td>0.5</td><td>1.0</td><td>1.0</td><td>2.0</td><td>1.0</td><td>1.0</td><td>0.5</td><td>2.0</td><td>1.0</td><td>1.0</td><td>1.0</td><td>0.5</td><td>0.5</td><td>0</td><td>0</td><td>0</td><td>&quot;Charmander&quot;</td><td>&quot;Level &quot;</td><td>&quot;Charmeleon&quot;</td><td>&quot;Level &quot;</td><td>&quot;Charizard&quot;</td><td>null</td><td>null</td><td>null</td><td>null</td><td>null</td><td>&quot;It has a preference for hot th…</td></tr><tr><td>5</td><td>&quot;I&quot;</td><td>&quot;Charmeleon&quot;</td><td>&quot;Lizardo&quot;</td><td>&quot;fire&quot;</td><td>null</td><td>&quot;Flame Pokémon&quot;</td><td>88.14</td><td>11.86</td><td>1.1</td><td>19.0</td><td>45</td><td>5120</td><td>58</td><td>64</td><td>58</td><td>80</td><td>65</td><td>80</td><td>&quot;Blaze&quot;</td><td>null</td><td>null</td><td>&quot;Solar Power&quot;</td><td>1.0</td><td>0.5</td><td>2.0</td><td>1.0</td><td>0.5</td><td>0.5</td><td>1.0</td><td>1.0</td><td>2.0</td><td>1.0</td><td>1.0</td><td>0.5</td><td>2.0</td><td>1.0</td><td>1.0</td><td>1.0</td><td>0.5</td><td>0.5</td><td>0</td><td>0</td><td>0</td><td>&quot;Charmander&quot;</td><td>&quot;Level &quot;</td><td>&quot;Charmeleon&quot;</td><td>&quot;Level &quot;</td><td>&quot;Charizard&quot;</td><td>null</td><td>null</td><td>null</td><td>null</td><td>null</td><td>&quot;It has a barbaric nature. In b…</td></tr></tbody></table></div>"
      ],
      "text/plain": [
       "shape: (5, 55)\n",
       "┌────────────┬─────┬────────────┬────────────┬───┬────────────┬────────────┬───────────┬───────────┐\n",
       "│ national_n ┆ gen ┆ english_na ┆ japanese_n ┆ … ┆ gigantamax ┆ mega_evolu ┆ mega_evol ┆ descripti │\n",
       "│ umber      ┆ --- ┆ me         ┆ ame        ┆   ┆ ---        ┆ tion       ┆ ution_alt ┆ on        │\n",
       "│ ---        ┆ str ┆ ---        ┆ ---        ┆   ┆ str        ┆ ---        ┆ ---       ┆ ---       │\n",
       "│ i64        ┆     ┆ str        ┆ str        ┆   ┆            ┆ str        ┆ str       ┆ str       │\n",
       "╞════════════╪═════╪════════════╪════════════╪═══╪════════════╪════════════╪═══════════╪═══════════╡\n",
       "│ 1          ┆ I   ┆ Bulbasaur  ┆ Fushigidan ┆ … ┆ null       ┆ null       ┆ null      ┆ There is  │\n",
       "│            ┆     ┆            ┆ e          ┆   ┆            ┆            ┆           ┆ a plant   │\n",
       "│            ┆     ┆            ┆            ┆   ┆            ┆            ┆           ┆ seed on   │\n",
       "│            ┆     ┆            ┆            ┆   ┆            ┆            ┆           ┆ its b…    │\n",
       "│ 2          ┆ I   ┆ Ivysaur    ┆ Fushigisou ┆ … ┆ null       ┆ null       ┆ null      ┆ When the  │\n",
       "│            ┆     ┆            ┆            ┆   ┆            ┆            ┆           ┆ bulb on   │\n",
       "│            ┆     ┆            ┆            ┆   ┆            ┆            ┆           ┆ its back  │\n",
       "│            ┆     ┆            ┆            ┆   ┆            ┆            ┆           ┆ grow…     │\n",
       "│ 3          ┆ I   ┆ Venusaur   ┆ Fushigiban ┆ … ┆ Gigantamax ┆ Mega       ┆ null      ┆ Its plant │\n",
       "│            ┆     ┆            ┆ a          ┆   ┆ Venusaur   ┆ Venusaur   ┆           ┆ blooms    │\n",
       "│            ┆     ┆            ┆            ┆   ┆            ┆            ┆           ┆ when it   │\n",
       "│            ┆     ┆            ┆            ┆   ┆            ┆            ┆           ┆ is ab…    │\n",
       "│ 4          ┆ I   ┆ Charmander ┆ Hitokage   ┆ … ┆ null       ┆ null       ┆ null      ┆ It has a  │\n",
       "│            ┆     ┆            ┆            ┆   ┆            ┆            ┆           ┆ preferenc │\n",
       "│            ┆     ┆            ┆            ┆   ┆            ┆            ┆           ┆ e for hot │\n",
       "│            ┆     ┆            ┆            ┆   ┆            ┆            ┆           ┆ th…       │\n",
       "│ 5          ┆ I   ┆ Charmeleon ┆ Lizardo    ┆ … ┆ null       ┆ null       ┆ null      ┆ It has a  │\n",
       "│            ┆     ┆            ┆            ┆   ┆            ┆            ┆           ┆ barbaric  │\n",
       "│            ┆     ┆            ┆            ┆   ┆            ┆            ┆           ┆ nature.   │\n",
       "│            ┆     ┆            ┆            ┆   ┆            ┆            ┆           ┆ In b…     │\n",
       "└────────────┴─────┴────────────┴────────────┴───┴────────────┴────────────┴───────────┴───────────┘"
      ]
     },
     "execution_count": 6,
     "metadata": {},
     "output_type": "execute_result"
    }
   ],
   "source": [
    "pokemon.head()"
   ]
  },
  {
   "cell_type": "markdown",
   "id": "edd7420b-67f5-4bbb-a7c4-6f56ef1ea60d",
   "metadata": {},
   "source": [
    "# Contexts & expressions\n",
    "\n",
    "## Expressions encodes a computation"
   ]
  },
  {
   "cell_type": "code",
   "execution_count": 9,
   "id": "1f6eb240-2e10-4d85-bc30-20ad3687d6eb",
   "metadata": {},
   "outputs": [
    {
     "data": {
      "text/html": [
       "[(col(\"attack\")) > (dyn int: 100)]"
      ],
      "text/plain": [
       "<Expr ['[(col(\"attack\")) > (dyn int: 1…'] at 0x107FDE250>"
      ]
     },
     "execution_count": 9,
     "metadata": {},
     "output_type": "execute_result"
    }
   ],
   "source": [
    "pl.col(\"attack\") > 100"
   ]
  },
  {
   "cell_type": "markdown",
   "id": "90214962-f60a-4f28-aad9-7cb138144df4",
   "metadata": {},
   "source": [
    "## A context gives meaning to expressions"
   ]
  },
  {
   "cell_type": "code",
   "execution_count": 12,
   "id": "6d0ffb81-e140-497e-9ee1-c715d87c1730",
   "metadata": {},
   "outputs": [
    {
     "data": {
      "text/plain": [
       "(898, 55)"
      ]
     },
     "execution_count": 12,
     "metadata": {},
     "output_type": "execute_result"
    }
   ],
   "source": [
    "pokemon.shape"
   ]
  },
  {
   "cell_type": "markdown",
   "id": "988f9253-4ed8-4799-a339-b414c9d39a53",
   "metadata": {},
   "source": [
    "### `filter` lets you filter rows"
   ]
  },
  {
   "cell_type": "code",
   "execution_count": 10,
   "id": "6b356393-1ef7-4d3d-b977-5dd4799925ba",
   "metadata": {},
   "outputs": [
    {
     "data": {
      "text/html": [
       "<div><style>\n",
       ".dataframe > thead > tr,\n",
       ".dataframe > tbody > tr {\n",
       "  text-align: right;\n",
       "  white-space: pre-wrap;\n",
       "}\n",
       "</style>\n",
       "<small>shape: (175, 55)</small><table border=\"1\" class=\"dataframe\"><thead><tr><th>national_number</th><th>gen</th><th>english_name</th><th>japanese_name</th><th>primary_type</th><th>secondary_type</th><th>classification</th><th>percent_male</th><th>percent_female</th><th>height_m</th><th>weight_kg</th><th>capture_rate</th><th>base_egg_steps</th><th>hp</th><th>attack</th><th>defense</th><th>sp_attack</th><th>sp_defense</th><th>speed</th><th>abilities_0</th><th>abilities_1</th><th>abilities_2</th><th>abilities_hidden</th><th>against_normal</th><th>against_fire</th><th>against_water</th><th>against_electric</th><th>against_grass</th><th>against_ice</th><th>against_fighting</th><th>against_poison</th><th>against_ground</th><th>against_flying</th><th>against_psychic</th><th>against_bug</th><th>against_rock</th><th>against_ghost</th><th>against_dragon</th><th>against_dark</th><th>against_steel</th><th>against_fairy</th><th>is_sublegendary</th><th>is_legendary</th><th>is_mythical</th><th>evochain_0</th><th>evochain_1</th><th>evochain_2</th><th>evochain_3</th><th>evochain_4</th><th>evochain_5</th><th>evochain_6</th><th>gigantamax</th><th>mega_evolution</th><th>mega_evolution_alt</th><th>description</th></tr><tr><td>i64</td><td>str</td><td>str</td><td>str</td><td>str</td><td>str</td><td>str</td><td>f64</td><td>f64</td><td>f64</td><td>f64</td><td>i64</td><td>i64</td><td>i64</td><td>i64</td><td>i64</td><td>i64</td><td>i64</td><td>i64</td><td>str</td><td>str</td><td>str</td><td>str</td><td>f64</td><td>f64</td><td>f64</td><td>f64</td><td>f64</td><td>f64</td><td>f64</td><td>f64</td><td>f64</td><td>f64</td><td>f64</td><td>f64</td><td>f64</td><td>f64</td><td>f64</td><td>f64</td><td>f64</td><td>f64</td><td>i64</td><td>i64</td><td>i64</td><td>str</td><td>str</td><td>str</td><td>str</td><td>str</td><td>str</td><td>str</td><td>str</td><td>str</td><td>str</td><td>str</td></tr></thead><tbody><tr><td>34</td><td>&quot;I&quot;</td><td>&quot;Nidoking&quot;</td><td>&quot;Nidoking&quot;</td><td>&quot;poison&quot;</td><td>&quot;ground&quot;</td><td>&quot;Drill Pokémon&quot;</td><td>100.0</td><td>0.0</td><td>1.4</td><td>62.0</td><td>45</td><td>5120</td><td>81</td><td>102</td><td>77</td><td>85</td><td>75</td><td>85</td><td>&quot;Poison Point&quot;</td><td>&quot;Rivalry&quot;</td><td>null</td><td>&quot;Sheer Force&quot;</td><td>1.0</td><td>1.0</td><td>2.0</td><td>0.0</td><td>1.0</td><td>2.0</td><td>0.5</td><td>0.25</td><td>2.0</td><td>1.0</td><td>2.0</td><td>0.5</td><td>0.5</td><td>1.0</td><td>1.0</td><td>1.0</td><td>1.0</td><td>0.5</td><td>0</td><td>0</td><td>0</td><td>&quot;Egg&quot;</td><td>&quot;When Male&quot;</td><td>&quot;Nidoran♂&quot;</td><td>&quot;Level 16&quot;</td><td>&quot;Nidorino&quot;</td><td>&quot;Use Moonstone&quot;</td><td>&quot;Nidoking&quot;</td><td>null</td><td>null</td><td>null</td><td>&quot;When it goes on a rampage, it’…</td></tr><tr><td>57</td><td>&quot;I&quot;</td><td>&quot;Primeape&quot;</td><td>&quot;Okorizaru&quot;</td><td>&quot;fighting&quot;</td><td>null</td><td>&quot;Pig Monkey Pokémon&quot;</td><td>50.0</td><td>50.0</td><td>1.0</td><td>32.0</td><td>75</td><td>5120</td><td>65</td><td>105</td><td>60</td><td>60</td><td>70</td><td>95</td><td>&quot;Vital Spirit&quot;</td><td>&quot;Anger Point&quot;</td><td>null</td><td>&quot;Defiant&quot;</td><td>1.0</td><td>1.0</td><td>1.0</td><td>1.0</td><td>1.0</td><td>1.0</td><td>1.0</td><td>1.0</td><td>1.0</td><td>2.0</td><td>2.0</td><td>0.5</td><td>0.5</td><td>1.0</td><td>1.0</td><td>0.5</td><td>1.0</td><td>2.0</td><td>0</td><td>0</td><td>0</td><td>&quot;Mankey&quot;</td><td>&quot;Level &quot;</td><td>&quot;Primeape&quot;</td><td>null</td><td>null</td><td>null</td><td>null</td><td>null</td><td>null</td><td>null</td><td>&quot;It stops being angry only when…</td></tr><tr><td>59</td><td>&quot;I&quot;</td><td>&quot;Arcanine&quot;</td><td>&quot;Windie&quot;</td><td>&quot;fire&quot;</td><td>null</td><td>&quot;Legendary Pokémon&quot;</td><td>75.49</td><td>24.51</td><td>1.9</td><td>155.0</td><td>75</td><td>5120</td><td>90</td><td>110</td><td>80</td><td>100</td><td>80</td><td>95</td><td>&quot;Intimidate&quot;</td><td>&quot;Flash Fire&quot;</td><td>null</td><td>&quot;Justified&quot;</td><td>1.0</td><td>0.5</td><td>2.0</td><td>1.0</td><td>0.5</td><td>0.5</td><td>1.0</td><td>1.0</td><td>2.0</td><td>1.0</td><td>1.0</td><td>0.5</td><td>2.0</td><td>1.0</td><td>1.0</td><td>1.0</td><td>0.5</td><td>0.5</td><td>0</td><td>0</td><td>0</td><td>&quot;Growlithe&quot;</td><td>&quot;Use Fire Stone&quot;</td><td>&quot;Arcanine&quot;</td><td>null</td><td>null</td><td>null</td><td>null</td><td>null</td><td>null</td><td>null</td><td>&quot;The sight of it running over 6…</td></tr><tr><td>68</td><td>&quot;I&quot;</td><td>&quot;Machamp&quot;</td><td>&quot;Kairiky&quot;</td><td>&quot;fighting&quot;</td><td>null</td><td>&quot;Superpower Pokémon&quot;</td><td>75.49</td><td>24.51</td><td>1.6</td><td>130.0</td><td>45</td><td>5120</td><td>90</td><td>130</td><td>80</td><td>65</td><td>85</td><td>55</td><td>&quot;Guts&quot;</td><td>&quot;No Guard&quot;</td><td>null</td><td>&quot;Steadfast&quot;</td><td>1.0</td><td>1.0</td><td>1.0</td><td>1.0</td><td>1.0</td><td>1.0</td><td>1.0</td><td>1.0</td><td>1.0</td><td>2.0</td><td>2.0</td><td>0.5</td><td>0.5</td><td>1.0</td><td>1.0</td><td>0.5</td><td>1.0</td><td>2.0</td><td>0</td><td>0</td><td>0</td><td>&quot;Machop&quot;</td><td>&quot;Level &quot;</td><td>&quot;Machoke&quot;</td><td>&quot;Trade&quot;</td><td>&quot;Machamp&quot;</td><td>null</td><td>null</td><td>&quot;Gigantamax Machamp&quot;</td><td>null</td><td>null</td><td>&quot;It quickly swings its four arm…</td></tr><tr><td>71</td><td>&quot;I&quot;</td><td>&quot;Victreebel&quot;</td><td>&quot;Utsubot&quot;</td><td>&quot;grass&quot;</td><td>&quot;poison&quot;</td><td>&quot;Flycatcher Pokémon&quot;</td><td>50.0</td><td>50.0</td><td>1.7</td><td>15.5</td><td>45</td><td>5120</td><td>80</td><td>105</td><td>65</td><td>100</td><td>70</td><td>70</td><td>&quot;Chlorophyll&quot;</td><td>null</td><td>null</td><td>&quot;Gluttony&quot;</td><td>1.0</td><td>2.0</td><td>0.5</td><td>0.5</td><td>0.25</td><td>2.0</td><td>0.5</td><td>1.0</td><td>1.0</td><td>2.0</td><td>2.0</td><td>1.0</td><td>1.0</td><td>1.0</td><td>1.0</td><td>1.0</td><td>1.0</td><td>0.5</td><td>0</td><td>0</td><td>0</td><td>&quot;Bellsprout&quot;</td><td>&quot;Level &quot;</td><td>&quot;Weepinbell&quot;</td><td>&quot;Use Leaf Stone&quot;</td><td>&quot;Victreebel&quot;</td><td>null</td><td>null</td><td>null</td><td>null</td><td>null</td><td>&quot;Lures prey with the sweet arom…</td></tr><tr><td>&hellip;</td><td>&hellip;</td><td>&hellip;</td><td>&hellip;</td><td>&hellip;</td><td>&hellip;</td><td>&hellip;</td><td>&hellip;</td><td>&hellip;</td><td>&hellip;</td><td>&hellip;</td><td>&hellip;</td><td>&hellip;</td><td>&hellip;</td><td>&hellip;</td><td>&hellip;</td><td>&hellip;</td><td>&hellip;</td><td>&hellip;</td><td>&hellip;</td><td>&hellip;</td><td>&hellip;</td><td>&hellip;</td><td>&hellip;</td><td>&hellip;</td><td>&hellip;</td><td>&hellip;</td><td>&hellip;</td><td>&hellip;</td><td>&hellip;</td><td>&hellip;</td><td>&hellip;</td><td>&hellip;</td><td>&hellip;</td><td>&hellip;</td><td>&hellip;</td><td>&hellip;</td><td>&hellip;</td><td>&hellip;</td><td>&hellip;</td><td>&hellip;</td><td>&hellip;</td><td>&hellip;</td><td>&hellip;</td><td>&hellip;</td><td>&hellip;</td><td>&hellip;</td><td>&hellip;</td><td>&hellip;</td><td>&hellip;</td><td>&hellip;</td><td>&hellip;</td><td>&hellip;</td><td>&hellip;</td><td>&hellip;</td></tr><tr><td>888</td><td>&quot;VIII&quot;</td><td>&quot;Zacian&quot;</td><td>&quot;Zacian&quot;</td><td>&quot;fairy&quot;</td><td>&quot;fairy&quot;</td><td>&quot;Warrior Pokémon&quot;</td><td>null</td><td>null</td><td>2.8</td><td>110.0</td><td>10</td><td>30720</td><td>92</td><td>130</td><td>115</td><td>80</td><td>115</td><td>138</td><td>&quot;Intrepid Sword&quot;</td><td>null</td><td>null</td><td>null</td><td>1.0</td><td>1.0</td><td>1.0</td><td>1.0</td><td>1.0</td><td>1.0</td><td>0.5</td><td>2.0</td><td>1.0</td><td>1.0</td><td>1.0</td><td>0.5</td><td>1.0</td><td>1.0</td><td>0.0</td><td>0.5</td><td>2.0</td><td>1.0</td><td>0</td><td>0</td><td>0</td><td>&quot;Zacian&quot;</td><td>null</td><td>null</td><td>null</td><td>null</td><td>null</td><td>null</td><td>null</td><td>null</td><td>null</td><td>&quot;Known as a legendary hero, thi…</td></tr><tr><td>889</td><td>&quot;VIII&quot;</td><td>&quot;Zamazenta&quot;</td><td>&quot;Zamazenta&quot;</td><td>&quot;fighting&quot;</td><td>&quot;fighting&quot;</td><td>&quot;Warrior Pokémon&quot;</td><td>null</td><td>null</td><td>2.9</td><td>210.0</td><td>10</td><td>30720</td><td>92</td><td>130</td><td>115</td><td>80</td><td>115</td><td>138</td><td>&quot;Dauntless Shield&quot;</td><td>null</td><td>null</td><td>null</td><td>1.0</td><td>1.0</td><td>1.0</td><td>1.0</td><td>1.0</td><td>1.0</td><td>1.0</td><td>1.0</td><td>1.0</td><td>2.0</td><td>2.0</td><td>0.5</td><td>0.5</td><td>1.0</td><td>1.0</td><td>0.5</td><td>1.0</td><td>2.0</td><td>0</td><td>0</td><td>0</td><td>&quot;Zamazenta&quot;</td><td>null</td><td>null</td><td>null</td><td>null</td><td>null</td><td>null</td><td>null</td><td>null</td><td>null</td><td>&quot;In times past, it worked toget…</td></tr><tr><td>892</td><td>&quot;VIII&quot;</td><td>&quot;Urshifu&quot;</td><td>&quot;Uraosu&quot;</td><td>&quot;fighting&quot;</td><td>&quot;dark&quot;</td><td>&quot;Wushu Pokémon&quot;</td><td>88.14</td><td>11.86</td><td>1.9</td><td>105.0</td><td>3</td><td>30720</td><td>100</td><td>130</td><td>100</td><td>63</td><td>60</td><td>97</td><td>&quot;Unseen Fist&quot;</td><td>null</td><td>null</td><td>null</td><td>1.0</td><td>1.0</td><td>1.0</td><td>1.0</td><td>1.0</td><td>1.0</td><td>2.0</td><td>1.0</td><td>1.0</td><td>2.0</td><td>0.0</td><td>1.0</td><td>0.5</td><td>0.5</td><td>1.0</td><td>0.25</td><td>1.0</td><td>4.0</td><td>1</td><td>0</td><td>0</td><td>&quot;Kubfu&quot;</td><td>&quot;Complete Tower of Darkness&quot;</td><td>&quot;Urshifu&quot;</td><td>null</td><td>null</td><td>null</td><td>null</td><td>&quot;Gigantamax Urshifu&quot;</td><td>null</td><td>null</td><td>&quot;This form of Urshifu is a stro…</td></tr><tr><td>893</td><td>&quot;VIII&quot;</td><td>&quot;Zarude&quot;</td><td>&quot;Zarude&quot;</td><td>&quot;dark&quot;</td><td>&quot;grass&quot;</td><td>&quot;Rogue Monkey Pokémon&quot;</td><td>null</td><td>null</td><td>1.8</td><td>70.0</td><td>3</td><td>30720</td><td>105</td><td>120</td><td>105</td><td>70</td><td>95</td><td>105</td><td>&quot;Leaf Guard&quot;</td><td>null</td><td>null</td><td>null</td><td>1.0</td><td>2.0</td><td>0.5</td><td>0.5</td><td>0.5</td><td>2.0</td><td>2.0</td><td>2.0</td><td>0.5</td><td>2.0</td><td>0.0</td><td>4.0</td><td>1.0</td><td>0.5</td><td>1.0</td><td>0.5</td><td>1.0</td><td>2.0</td><td>0</td><td>0</td><td>0</td><td>&quot;Zarude&quot;</td><td>null</td><td>null</td><td>null</td><td>null</td><td>null</td><td>null</td><td>null</td><td>null</td><td>null</td><td>&quot;Within dense forests, this Pok…</td></tr><tr><td>896</td><td>&quot;VIII&quot;</td><td>&quot;Glastrier&quot;</td><td>&quot;Blizapos&quot;</td><td>&quot;ice&quot;</td><td>null</td><td>&quot;Wild Horse Pokémon&quot;</td><td>null</td><td>null</td><td>2.2</td><td>800.0</td><td>3</td><td>30720</td><td>100</td><td>145</td><td>130</td><td>65</td><td>110</td><td>30</td><td>&quot;Chilling Neigh&quot;</td><td>null</td><td>null</td><td>null</td><td>1.0</td><td>2.0</td><td>1.0</td><td>1.0</td><td>1.0</td><td>0.5</td><td>2.0</td><td>1.0</td><td>1.0</td><td>1.0</td><td>1.0</td><td>1.0</td><td>2.0</td><td>1.0</td><td>1.0</td><td>1.0</td><td>2.0</td><td>1.0</td><td>1</td><td>0</td><td>0</td><td>&quot;Glastrier&quot;</td><td>null</td><td>null</td><td>null</td><td>null</td><td>null</td><td>null</td><td>null</td><td>null</td><td>null</td><td>&quot;Glastrier emits intense cold f…</td></tr></tbody></table></div>"
      ],
      "text/plain": [
       "shape: (175, 55)\n",
       "┌────────────┬──────┬────────────┬────────────┬───┬────────────┬───────────┬───────────┬───────────┐\n",
       "│ national_n ┆ gen  ┆ english_na ┆ japanese_n ┆ … ┆ gigantamax ┆ mega_evol ┆ mega_evol ┆ descripti │\n",
       "│ umber      ┆ ---  ┆ me         ┆ ame        ┆   ┆ ---        ┆ ution     ┆ ution_alt ┆ on        │\n",
       "│ ---        ┆ str  ┆ ---        ┆ ---        ┆   ┆ str        ┆ ---       ┆ ---       ┆ ---       │\n",
       "│ i64        ┆      ┆ str        ┆ str        ┆   ┆            ┆ str       ┆ str       ┆ str       │\n",
       "╞════════════╪══════╪════════════╪════════════╪═══╪════════════╪═══════════╪═══════════╪═══════════╡\n",
       "│ 34         ┆ I    ┆ Nidoking   ┆ Nidoking   ┆ … ┆ null       ┆ null      ┆ null      ┆ When it   │\n",
       "│            ┆      ┆            ┆            ┆   ┆            ┆           ┆           ┆ goes on a │\n",
       "│            ┆      ┆            ┆            ┆   ┆            ┆           ┆           ┆ rampage,  │\n",
       "│            ┆      ┆            ┆            ┆   ┆            ┆           ┆           ┆ it’…      │\n",
       "│ 57         ┆ I    ┆ Primeape   ┆ Okorizaru  ┆ … ┆ null       ┆ null      ┆ null      ┆ It stops  │\n",
       "│            ┆      ┆            ┆            ┆   ┆            ┆           ┆           ┆ being     │\n",
       "│            ┆      ┆            ┆            ┆   ┆            ┆           ┆           ┆ angry     │\n",
       "│            ┆      ┆            ┆            ┆   ┆            ┆           ┆           ┆ only      │\n",
       "│            ┆      ┆            ┆            ┆   ┆            ┆           ┆           ┆ when…     │\n",
       "│ 59         ┆ I    ┆ Arcanine   ┆ Windie     ┆ … ┆ null       ┆ null      ┆ null      ┆ The sight │\n",
       "│            ┆      ┆            ┆            ┆   ┆            ┆           ┆           ┆ of it     │\n",
       "│            ┆      ┆            ┆            ┆   ┆            ┆           ┆           ┆ running   │\n",
       "│            ┆      ┆            ┆            ┆   ┆            ┆           ┆           ┆ over 6…   │\n",
       "│ 68         ┆ I    ┆ Machamp    ┆ Kairiky    ┆ … ┆ Gigantamax ┆ null      ┆ null      ┆ It        │\n",
       "│            ┆      ┆            ┆            ┆   ┆ Machamp    ┆           ┆           ┆ quickly   │\n",
       "│            ┆      ┆            ┆            ┆   ┆            ┆           ┆           ┆ swings    │\n",
       "│            ┆      ┆            ┆            ┆   ┆            ┆           ┆           ┆ its four  │\n",
       "│            ┆      ┆            ┆            ┆   ┆            ┆           ┆           ┆ arm…      │\n",
       "│ 71         ┆ I    ┆ Victreebel ┆ Utsubot    ┆ … ┆ null       ┆ null      ┆ null      ┆ Lures     │\n",
       "│            ┆      ┆            ┆            ┆   ┆            ┆           ┆           ┆ prey with │\n",
       "│            ┆      ┆            ┆            ┆   ┆            ┆           ┆           ┆ the sweet │\n",
       "│            ┆      ┆            ┆            ┆   ┆            ┆           ┆           ┆ arom…     │\n",
       "│ …          ┆ …    ┆ …          ┆ …          ┆ … ┆ …          ┆ …         ┆ …         ┆ …         │\n",
       "│ 888        ┆ VIII ┆ Zacian     ┆ Zacian     ┆ … ┆ null       ┆ null      ┆ null      ┆ Known as  │\n",
       "│            ┆      ┆            ┆            ┆   ┆            ┆           ┆           ┆ a         │\n",
       "│            ┆      ┆            ┆            ┆   ┆            ┆           ┆           ┆ legendary │\n",
       "│            ┆      ┆            ┆            ┆   ┆            ┆           ┆           ┆ hero,     │\n",
       "│            ┆      ┆            ┆            ┆   ┆            ┆           ┆           ┆ thi…      │\n",
       "│ 889        ┆ VIII ┆ Zamazenta  ┆ Zamazenta  ┆ … ┆ null       ┆ null      ┆ null      ┆ In times  │\n",
       "│            ┆      ┆            ┆            ┆   ┆            ┆           ┆           ┆ past, it  │\n",
       "│            ┆      ┆            ┆            ┆   ┆            ┆           ┆           ┆ worked    │\n",
       "│            ┆      ┆            ┆            ┆   ┆            ┆           ┆           ┆ toget…    │\n",
       "│ 892        ┆ VIII ┆ Urshifu    ┆ Uraosu     ┆ … ┆ Gigantamax ┆ null      ┆ null      ┆ This form │\n",
       "│            ┆      ┆            ┆            ┆   ┆ Urshifu    ┆           ┆           ┆ of        │\n",
       "│            ┆      ┆            ┆            ┆   ┆            ┆           ┆           ┆ Urshifu   │\n",
       "│            ┆      ┆            ┆            ┆   ┆            ┆           ┆           ┆ is a      │\n",
       "│            ┆      ┆            ┆            ┆   ┆            ┆           ┆           ┆ stro…     │\n",
       "│ 893        ┆ VIII ┆ Zarude     ┆ Zarude     ┆ … ┆ null       ┆ null      ┆ null      ┆ Within    │\n",
       "│            ┆      ┆            ┆            ┆   ┆            ┆           ┆           ┆ dense     │\n",
       "│            ┆      ┆            ┆            ┆   ┆            ┆           ┆           ┆ forests,  │\n",
       "│            ┆      ┆            ┆            ┆   ┆            ┆           ┆           ┆ this Pok… │\n",
       "│ 896        ┆ VIII ┆ Glastrier  ┆ Blizapos   ┆ … ┆ null       ┆ null      ┆ null      ┆ Glastrier │\n",
       "│            ┆      ┆            ┆            ┆   ┆            ┆           ┆           ┆ emits     │\n",
       "│            ┆      ┆            ┆            ┆   ┆            ┆           ┆           ┆ intense   │\n",
       "│            ┆      ┆            ┆            ┆   ┆            ┆           ┆           ┆ cold f…   │\n",
       "└────────────┴──────┴────────────┴────────────┴───┴────────────┴───────────┴───────────┴───────────┘"
      ]
     },
     "execution_count": 10,
     "metadata": {},
     "output_type": "execute_result"
    }
   ],
   "source": [
    "pokemon.filter(\n",
    "    pl.col(\"attack\") > 100,\n",
    ")"
   ]
  },
  {
   "cell_type": "markdown",
   "id": "fc7500e1-39b9-4aa9-8e4c-4e454b56a695",
   "metadata": {},
   "source": [
    "### `select` will select the appropriate columns and perform computations on them"
   ]
  },
  {
   "cell_type": "code",
   "execution_count": 13,
   "id": "9eca8bcf-8e8c-4350-9d54-e775429535e9",
   "metadata": {},
   "outputs": [
    {
     "data": {
      "text/html": [
       "<div><style>\n",
       ".dataframe > thead > tr,\n",
       ".dataframe > tbody > tr {\n",
       "  text-align: right;\n",
       "  white-space: pre-wrap;\n",
       "}\n",
       "</style>\n",
       "<small>shape: (898, 1)</small><table border=\"1\" class=\"dataframe\"><thead><tr><th>attack</th></tr><tr><td>bool</td></tr></thead><tbody><tr><td>false</td></tr><tr><td>false</td></tr><tr><td>false</td></tr><tr><td>false</td></tr><tr><td>false</td></tr><tr><td>&hellip;</td></tr><tr><td>false</td></tr><tr><td>false</td></tr><tr><td>true</td></tr><tr><td>false</td></tr><tr><td>false</td></tr></tbody></table></div>"
      ],
      "text/plain": [
       "shape: (898, 1)\n",
       "┌────────┐\n",
       "│ attack │\n",
       "│ ---    │\n",
       "│ bool   │\n",
       "╞════════╡\n",
       "│ false  │\n",
       "│ false  │\n",
       "│ false  │\n",
       "│ false  │\n",
       "│ false  │\n",
       "│ …      │\n",
       "│ false  │\n",
       "│ false  │\n",
       "│ true   │\n",
       "│ false  │\n",
       "│ false  │\n",
       "└────────┘"
      ]
     },
     "execution_count": 13,
     "metadata": {},
     "output_type": "execute_result"
    }
   ],
   "source": [
    "pokemon.select(\n",
    "    pl.col(\"attack\") > 100,\n",
    ")"
   ]
  },
  {
   "cell_type": "markdown",
   "id": "96822cc4-9347-434d-8791-2fc3bbb40555",
   "metadata": {},
   "source": [
    "### Same expression but different context = different result"
   ]
  },
  {
   "cell_type": "markdown",
   "id": "532946be-71bd-48f6-92be-7f02eac36477",
   "metadata": {},
   "source": [
    "## `group_by` performs aggregations"
   ]
  },
  {
   "cell_type": "code",
   "execution_count": 21,
   "id": "18e68fa5-e444-47f7-999c-bc9cbdf3f80b",
   "metadata": {},
   "outputs": [
    {
     "data": {
      "text/html": [
       "<div><style>\n",
       ".dataframe > thead > tr,\n",
       ".dataframe > tbody > tr {\n",
       "  text-align: right;\n",
       "  white-space: pre-wrap;\n",
       "}\n",
       "</style>\n",
       "<small>shape: (18, 2)</small><table border=\"1\" class=\"dataframe\"><thead><tr><th>primary_type</th><th>speed</th></tr><tr><td>str</td><td>f64</td></tr></thead><tbody><tr><td>&quot;steel&quot;</td><td>53.033333</td></tr><tr><td>&quot;rock&quot;</td><td>53.14</td></tr><tr><td>&quot;fairy&quot;</td><td>55.333333</td></tr><tr><td>&quot;grass&quot;</td><td>58.27907</td></tr><tr><td>&quot;ice&quot;</td><td>59.214286</td></tr><tr><td>&hellip;</td><td>&hellip;</td></tr><tr><td>&quot;dark&quot;</td><td>74.277778</td></tr><tr><td>&quot;fire&quot;</td><td>74.896552</td></tr><tr><td>&quot;dragon&quot;</td><td>78.741935</td></tr><tr><td>&quot;flying&quot;</td><td>82.142857</td></tr><tr><td>&quot;electric&quot;</td><td>85.163265</td></tr></tbody></table></div>"
      ],
      "text/plain": [
       "shape: (18, 2)\n",
       "┌──────────────┬───────────┐\n",
       "│ primary_type ┆ speed     │\n",
       "│ ---          ┆ ---       │\n",
       "│ str          ┆ f64       │\n",
       "╞══════════════╪═══════════╡\n",
       "│ steel        ┆ 53.033333 │\n",
       "│ rock         ┆ 53.14     │\n",
       "│ fairy        ┆ 55.333333 │\n",
       "│ grass        ┆ 58.27907  │\n",
       "│ ice          ┆ 59.214286 │\n",
       "│ …            ┆ …         │\n",
       "│ dark         ┆ 74.277778 │\n",
       "│ fire         ┆ 74.896552 │\n",
       "│ dragon       ┆ 78.741935 │\n",
       "│ flying       ┆ 82.142857 │\n",
       "│ electric     ┆ 85.163265 │\n",
       "└──────────────┴───────────┘"
      ]
     },
     "execution_count": 21,
     "metadata": {},
     "output_type": "execute_result"
    }
   ],
   "source": [
    "pokemon.group_by(\n",
    "    pl.col(\"primary_type\"),\n",
    ").agg(\n",
    "    pl.col(\"speed\").mean(),\n",
    ").sort(\n",
    "    by=pl.col(\"speed\"),\n",
    ")"
   ]
  },
  {
   "cell_type": "markdown",
   "id": "e6b8594f-da83-49c5-aa9f-f6c6c92ff1c1",
   "metadata": {},
   "source": [
    "## Fixing types when loading data"
   ]
  },
  {
   "cell_type": "code",
   "execution_count": 30,
   "id": "ac86f236-dc76-406f-becc-667a6e4766a2",
   "metadata": {},
   "outputs": [],
   "source": [
    "pokemon = pl.read_csv(\n",
    "    \"https://gist.githubusercontent.com/rodrigogiraoserrao/081547f4b9071d9e29423d31fe4ba978/raw/6adfb37b8bbc9eb7021fb1a19a40015c8cf0016b/pokemon.csv\",\n",
    "    schema_overrides={\n",
    "        \"attack\": pl.UInt16,  # 2*16\n",
    "        \"speed\": pl.UInt16,\n",
    "    },\n",
    ")"
   ]
  },
  {
   "cell_type": "code",
   "execution_count": 31,
   "id": "651811de-bbf3-4d34-bb8f-a24c4b98819c",
   "metadata": {},
   "outputs": [
    {
     "data": {
      "text/html": [
       "<div><style>\n",
       ".dataframe > thead > tr,\n",
       ".dataframe > tbody > tr {\n",
       "  text-align: right;\n",
       "  white-space: pre-wrap;\n",
       "}\n",
       "</style>\n",
       "<small>shape: (5, 55)</small><table border=\"1\" class=\"dataframe\"><thead><tr><th>national_number</th><th>gen</th><th>english_name</th><th>japanese_name</th><th>primary_type</th><th>secondary_type</th><th>classification</th><th>percent_male</th><th>percent_female</th><th>height_m</th><th>weight_kg</th><th>capture_rate</th><th>base_egg_steps</th><th>hp</th><th>attack</th><th>defense</th><th>sp_attack</th><th>sp_defense</th><th>speed</th><th>abilities_0</th><th>abilities_1</th><th>abilities_2</th><th>abilities_hidden</th><th>against_normal</th><th>against_fire</th><th>against_water</th><th>against_electric</th><th>against_grass</th><th>against_ice</th><th>against_fighting</th><th>against_poison</th><th>against_ground</th><th>against_flying</th><th>against_psychic</th><th>against_bug</th><th>against_rock</th><th>against_ghost</th><th>against_dragon</th><th>against_dark</th><th>against_steel</th><th>against_fairy</th><th>is_sublegendary</th><th>is_legendary</th><th>is_mythical</th><th>evochain_0</th><th>evochain_1</th><th>evochain_2</th><th>evochain_3</th><th>evochain_4</th><th>evochain_5</th><th>evochain_6</th><th>gigantamax</th><th>mega_evolution</th><th>mega_evolution_alt</th><th>description</th></tr><tr><td>i64</td><td>str</td><td>str</td><td>str</td><td>str</td><td>str</td><td>str</td><td>f64</td><td>f64</td><td>f64</td><td>f64</td><td>i64</td><td>i64</td><td>i64</td><td>u16</td><td>i64</td><td>i64</td><td>i64</td><td>u16</td><td>str</td><td>str</td><td>str</td><td>str</td><td>f64</td><td>f64</td><td>f64</td><td>f64</td><td>f64</td><td>f64</td><td>f64</td><td>f64</td><td>f64</td><td>f64</td><td>f64</td><td>f64</td><td>f64</td><td>f64</td><td>f64</td><td>f64</td><td>f64</td><td>f64</td><td>i64</td><td>i64</td><td>i64</td><td>str</td><td>str</td><td>str</td><td>str</td><td>str</td><td>str</td><td>str</td><td>str</td><td>str</td><td>str</td><td>str</td></tr></thead><tbody><tr><td>1</td><td>&quot;I&quot;</td><td>&quot;Bulbasaur&quot;</td><td>&quot;Fushigidane&quot;</td><td>&quot;grass&quot;</td><td>&quot;poison&quot;</td><td>&quot;Seed Pokémon&quot;</td><td>88.14</td><td>11.86</td><td>0.7</td><td>6.9</td><td>45</td><td>5120</td><td>45</td><td>49</td><td>49</td><td>65</td><td>65</td><td>45</td><td>&quot;Overgrow&quot;</td><td>null</td><td>null</td><td>&quot;Chlorophyll&quot;</td><td>1.0</td><td>2.0</td><td>0.5</td><td>0.5</td><td>0.25</td><td>2.0</td><td>0.5</td><td>1.0</td><td>1.0</td><td>2.0</td><td>2.0</td><td>1.0</td><td>1.0</td><td>1.0</td><td>1.0</td><td>1.0</td><td>1.0</td><td>0.5</td><td>0</td><td>0</td><td>0</td><td>&quot;Bulbasaur&quot;</td><td>&quot;Level &quot;</td><td>&quot;Ivysaur&quot;</td><td>&quot;Level &quot;</td><td>&quot;Venusaur&quot;</td><td>null</td><td>null</td><td>null</td><td>null</td><td>null</td><td>&quot;There is a plant seed on its b…</td></tr><tr><td>2</td><td>&quot;I&quot;</td><td>&quot;Ivysaur&quot;</td><td>&quot;Fushigisou&quot;</td><td>&quot;grass&quot;</td><td>&quot;poison&quot;</td><td>&quot;Seed Pokémon&quot;</td><td>88.14</td><td>11.86</td><td>1.0</td><td>13.0</td><td>45</td><td>5120</td><td>60</td><td>62</td><td>63</td><td>80</td><td>80</td><td>60</td><td>&quot;Overgrow&quot;</td><td>null</td><td>null</td><td>&quot;Chlorophyll&quot;</td><td>1.0</td><td>2.0</td><td>0.5</td><td>0.5</td><td>0.25</td><td>2.0</td><td>0.5</td><td>1.0</td><td>1.0</td><td>2.0</td><td>2.0</td><td>1.0</td><td>1.0</td><td>1.0</td><td>1.0</td><td>1.0</td><td>1.0</td><td>0.5</td><td>0</td><td>0</td><td>0</td><td>&quot;Bulbasaur&quot;</td><td>&quot;Level &quot;</td><td>&quot;Ivysaur&quot;</td><td>&quot;Level &quot;</td><td>&quot;Venusaur&quot;</td><td>null</td><td>null</td><td>null</td><td>null</td><td>null</td><td>&quot;When the bulb on its back grow…</td></tr><tr><td>3</td><td>&quot;I&quot;</td><td>&quot;Venusaur&quot;</td><td>&quot;Fushigibana&quot;</td><td>&quot;grass&quot;</td><td>&quot;poison&quot;</td><td>&quot;Seed Pokémon&quot;</td><td>88.14</td><td>11.86</td><td>2.0</td><td>100.0</td><td>45</td><td>5120</td><td>80</td><td>82</td><td>83</td><td>100</td><td>100</td><td>80</td><td>&quot;Overgrow&quot;</td><td>null</td><td>null</td><td>&quot;Chlorophyll&quot;</td><td>1.0</td><td>2.0</td><td>0.5</td><td>0.5</td><td>0.25</td><td>2.0</td><td>0.5</td><td>1.0</td><td>1.0</td><td>2.0</td><td>2.0</td><td>1.0</td><td>1.0</td><td>1.0</td><td>1.0</td><td>1.0</td><td>1.0</td><td>0.5</td><td>0</td><td>0</td><td>0</td><td>&quot;Bulbasaur&quot;</td><td>&quot;Level &quot;</td><td>&quot;Ivysaur&quot;</td><td>&quot;Level &quot;</td><td>&quot;Venusaur&quot;</td><td>null</td><td>null</td><td>&quot;Gigantamax Venusaur&quot;</td><td>&quot;Mega Venusaur&quot;</td><td>null</td><td>&quot;Its plant blooms when it is ab…</td></tr><tr><td>4</td><td>&quot;I&quot;</td><td>&quot;Charmander&quot;</td><td>&quot;Hitokage&quot;</td><td>&quot;fire&quot;</td><td>null</td><td>&quot;Lizard Pokémon&quot;</td><td>88.14</td><td>11.86</td><td>0.6</td><td>8.5</td><td>45</td><td>5120</td><td>39</td><td>52</td><td>43</td><td>60</td><td>50</td><td>65</td><td>&quot;Blaze&quot;</td><td>null</td><td>null</td><td>&quot;Solar Power&quot;</td><td>1.0</td><td>0.5</td><td>2.0</td><td>1.0</td><td>0.5</td><td>0.5</td><td>1.0</td><td>1.0</td><td>2.0</td><td>1.0</td><td>1.0</td><td>0.5</td><td>2.0</td><td>1.0</td><td>1.0</td><td>1.0</td><td>0.5</td><td>0.5</td><td>0</td><td>0</td><td>0</td><td>&quot;Charmander&quot;</td><td>&quot;Level &quot;</td><td>&quot;Charmeleon&quot;</td><td>&quot;Level &quot;</td><td>&quot;Charizard&quot;</td><td>null</td><td>null</td><td>null</td><td>null</td><td>null</td><td>&quot;It has a preference for hot th…</td></tr><tr><td>5</td><td>&quot;I&quot;</td><td>&quot;Charmeleon&quot;</td><td>&quot;Lizardo&quot;</td><td>&quot;fire&quot;</td><td>null</td><td>&quot;Flame Pokémon&quot;</td><td>88.14</td><td>11.86</td><td>1.1</td><td>19.0</td><td>45</td><td>5120</td><td>58</td><td>64</td><td>58</td><td>80</td><td>65</td><td>80</td><td>&quot;Blaze&quot;</td><td>null</td><td>null</td><td>&quot;Solar Power&quot;</td><td>1.0</td><td>0.5</td><td>2.0</td><td>1.0</td><td>0.5</td><td>0.5</td><td>1.0</td><td>1.0</td><td>2.0</td><td>1.0</td><td>1.0</td><td>0.5</td><td>2.0</td><td>1.0</td><td>1.0</td><td>1.0</td><td>0.5</td><td>0.5</td><td>0</td><td>0</td><td>0</td><td>&quot;Charmander&quot;</td><td>&quot;Level &quot;</td><td>&quot;Charmeleon&quot;</td><td>&quot;Level &quot;</td><td>&quot;Charizard&quot;</td><td>null</td><td>null</td><td>null</td><td>null</td><td>null</td><td>&quot;It has a barbaric nature. In b…</td></tr></tbody></table></div>"
      ],
      "text/plain": [
       "shape: (5, 55)\n",
       "┌────────────┬─────┬────────────┬────────────┬───┬────────────┬────────────┬───────────┬───────────┐\n",
       "│ national_n ┆ gen ┆ english_na ┆ japanese_n ┆ … ┆ gigantamax ┆ mega_evolu ┆ mega_evol ┆ descripti │\n",
       "│ umber      ┆ --- ┆ me         ┆ ame        ┆   ┆ ---        ┆ tion       ┆ ution_alt ┆ on        │\n",
       "│ ---        ┆ str ┆ ---        ┆ ---        ┆   ┆ str        ┆ ---        ┆ ---       ┆ ---       │\n",
       "│ i64        ┆     ┆ str        ┆ str        ┆   ┆            ┆ str        ┆ str       ┆ str       │\n",
       "╞════════════╪═════╪════════════╪════════════╪═══╪════════════╪════════════╪═══════════╪═══════════╡\n",
       "│ 1          ┆ I   ┆ Bulbasaur  ┆ Fushigidan ┆ … ┆ null       ┆ null       ┆ null      ┆ There is  │\n",
       "│            ┆     ┆            ┆ e          ┆   ┆            ┆            ┆           ┆ a plant   │\n",
       "│            ┆     ┆            ┆            ┆   ┆            ┆            ┆           ┆ seed on   │\n",
       "│            ┆     ┆            ┆            ┆   ┆            ┆            ┆           ┆ its b…    │\n",
       "│ 2          ┆ I   ┆ Ivysaur    ┆ Fushigisou ┆ … ┆ null       ┆ null       ┆ null      ┆ When the  │\n",
       "│            ┆     ┆            ┆            ┆   ┆            ┆            ┆           ┆ bulb on   │\n",
       "│            ┆     ┆            ┆            ┆   ┆            ┆            ┆           ┆ its back  │\n",
       "│            ┆     ┆            ┆            ┆   ┆            ┆            ┆           ┆ grow…     │\n",
       "│ 3          ┆ I   ┆ Venusaur   ┆ Fushigiban ┆ … ┆ Gigantamax ┆ Mega       ┆ null      ┆ Its plant │\n",
       "│            ┆     ┆            ┆ a          ┆   ┆ Venusaur   ┆ Venusaur   ┆           ┆ blooms    │\n",
       "│            ┆     ┆            ┆            ┆   ┆            ┆            ┆           ┆ when it   │\n",
       "│            ┆     ┆            ┆            ┆   ┆            ┆            ┆           ┆ is ab…    │\n",
       "│ 4          ┆ I   ┆ Charmander ┆ Hitokage   ┆ … ┆ null       ┆ null       ┆ null      ┆ It has a  │\n",
       "│            ┆     ┆            ┆            ┆   ┆            ┆            ┆           ┆ preferenc │\n",
       "│            ┆     ┆            ┆            ┆   ┆            ┆            ┆           ┆ e for hot │\n",
       "│            ┆     ┆            ┆            ┆   ┆            ┆            ┆           ┆ th…       │\n",
       "│ 5          ┆ I   ┆ Charmeleon ┆ Lizardo    ┆ … ┆ null       ┆ null       ┆ null      ┆ It has a  │\n",
       "│            ┆     ┆            ┆            ┆   ┆            ┆            ┆           ┆ barbaric  │\n",
       "│            ┆     ┆            ┆            ┆   ┆            ┆            ┆           ┆ nature.   │\n",
       "│            ┆     ┆            ┆            ┆   ┆            ┆            ┆           ┆ In b…     │\n",
       "└────────────┴─────┴────────────┴────────────┴───┴────────────┴────────────┴───────────┴───────────┘"
      ]
     },
     "execution_count": 31,
     "metadata": {},
     "output_type": "execute_result"
    }
   ],
   "source": [
    "pokemon.head()"
   ]
  },
  {
   "cell_type": "markdown",
   "id": "f5938745-a665-47f6-a870-662001dfbf62",
   "metadata": {},
   "source": [
    "## Exercises\n",
    "\n",
    "Exercises:\n",
    "- `with_columns` is VERY similar to `select`. What does it do?\n",
    "- How many Pokémon have type `electric`?\n",
    "- Using `|`, write a csv file with Pokémon that have attack greater than 100 or speed greater than 100.\n",
    "- Using `&`, write a parquet file (guess the method name) with Pokémon that have attack greater than 100 and sp_attack greater than 100.\n",
    "- Using `~`, write a JSON file (guess the method name) with Pokémon that have attack greater than 100 and sp_attack greater than 100 but are not legendary, sub legendary, or mythical. <--"
   ]
  },
  {
   "cell_type": "markdown",
   "id": "99d39432-904b-4cf3-b1ae-f88b7f8d5aaa",
   "metadata": {},
   "source": [
    "## Use `.alias` to give new names to columns\n",
    "\n",
    "**Rule of thumb**: one expression = one alias"
   ]
  },
  {
   "cell_type": "code",
   "execution_count": 44,
   "id": "5c873271-4ee2-4d9e-9178-73ce618cd673",
   "metadata": {},
   "outputs": [
    {
     "data": {
      "text/html": [
       "<div><style>\n",
       ".dataframe > thead > tr,\n",
       ".dataframe > tbody > tr {\n",
       "  text-align: right;\n",
       "  white-space: pre-wrap;\n",
       "}\n",
       "</style>\n",
       "<small>shape: (3, 57)</small><table border=\"1\" class=\"dataframe\"><thead><tr><th>national_number</th><th>gen</th><th>english_name</th><th>japanese_name</th><th>primary_type</th><th>secondary_type</th><th>classification</th><th>percent_male</th><th>percent_female</th><th>height_m</th><th>weight_kg</th><th>capture_rate</th><th>base_egg_steps</th><th>hp</th><th>attack</th><th>defense</th><th>sp_attack</th><th>sp_defense</th><th>speed</th><th>abilities_0</th><th>abilities_1</th><th>abilities_2</th><th>abilities_hidden</th><th>against_normal</th><th>against_fire</th><th>against_water</th><th>against_electric</th><th>against_grass</th><th>against_ice</th><th>against_fighting</th><th>against_poison</th><th>against_ground</th><th>against_flying</th><th>against_psychic</th><th>against_bug</th><th>against_rock</th><th>against_ghost</th><th>against_dragon</th><th>against_dark</th><th>against_steel</th><th>against_fairy</th><th>is_sublegendary</th><th>is_legendary</th><th>is_mythical</th><th>evochain_0</th><th>evochain_1</th><th>evochain_2</th><th>evochain_3</th><th>evochain_4</th><th>evochain_5</th><th>evochain_6</th><th>gigantamax</th><th>mega_evolution</th><th>mega_evolution_alt</th><th>description</th><th>attack_greater_100</th><th>sp_attack_greater_100</th></tr><tr><td>i64</td><td>str</td><td>str</td><td>str</td><td>str</td><td>str</td><td>str</td><td>f64</td><td>f64</td><td>f64</td><td>f64</td><td>i64</td><td>i64</td><td>i64</td><td>u16</td><td>i64</td><td>i64</td><td>i64</td><td>u16</td><td>str</td><td>str</td><td>str</td><td>str</td><td>f64</td><td>f64</td><td>f64</td><td>f64</td><td>f64</td><td>f64</td><td>f64</td><td>f64</td><td>f64</td><td>f64</td><td>f64</td><td>f64</td><td>f64</td><td>f64</td><td>f64</td><td>f64</td><td>f64</td><td>f64</td><td>i64</td><td>i64</td><td>i64</td><td>str</td><td>str</td><td>str</td><td>str</td><td>str</td><td>str</td><td>str</td><td>str</td><td>str</td><td>str</td><td>str</td><td>bool</td><td>bool</td></tr></thead><tbody><tr><td>1</td><td>&quot;I&quot;</td><td>&quot;Bulbasaur&quot;</td><td>&quot;Fushigidane&quot;</td><td>&quot;grass&quot;</td><td>&quot;poison&quot;</td><td>&quot;Seed Pokémon&quot;</td><td>88.14</td><td>11.86</td><td>0.7</td><td>6.9</td><td>45</td><td>5120</td><td>45</td><td>49</td><td>49</td><td>65</td><td>65</td><td>45</td><td>&quot;Overgrow&quot;</td><td>null</td><td>null</td><td>&quot;Chlorophyll&quot;</td><td>1.0</td><td>2.0</td><td>0.5</td><td>0.5</td><td>0.25</td><td>2.0</td><td>0.5</td><td>1.0</td><td>1.0</td><td>2.0</td><td>2.0</td><td>1.0</td><td>1.0</td><td>1.0</td><td>1.0</td><td>1.0</td><td>1.0</td><td>0.5</td><td>0</td><td>0</td><td>0</td><td>&quot;Bulbasaur&quot;</td><td>&quot;Level &quot;</td><td>&quot;Ivysaur&quot;</td><td>&quot;Level &quot;</td><td>&quot;Venusaur&quot;</td><td>null</td><td>null</td><td>null</td><td>null</td><td>null</td><td>&quot;There is a plant seed on its b…</td><td>false</td><td>false</td></tr><tr><td>2</td><td>&quot;I&quot;</td><td>&quot;Ivysaur&quot;</td><td>&quot;Fushigisou&quot;</td><td>&quot;grass&quot;</td><td>&quot;poison&quot;</td><td>&quot;Seed Pokémon&quot;</td><td>88.14</td><td>11.86</td><td>1.0</td><td>13.0</td><td>45</td><td>5120</td><td>60</td><td>62</td><td>63</td><td>80</td><td>80</td><td>60</td><td>&quot;Overgrow&quot;</td><td>null</td><td>null</td><td>&quot;Chlorophyll&quot;</td><td>1.0</td><td>2.0</td><td>0.5</td><td>0.5</td><td>0.25</td><td>2.0</td><td>0.5</td><td>1.0</td><td>1.0</td><td>2.0</td><td>2.0</td><td>1.0</td><td>1.0</td><td>1.0</td><td>1.0</td><td>1.0</td><td>1.0</td><td>0.5</td><td>0</td><td>0</td><td>0</td><td>&quot;Bulbasaur&quot;</td><td>&quot;Level &quot;</td><td>&quot;Ivysaur&quot;</td><td>&quot;Level &quot;</td><td>&quot;Venusaur&quot;</td><td>null</td><td>null</td><td>null</td><td>null</td><td>null</td><td>&quot;When the bulb on its back grow…</td><td>false</td><td>false</td></tr><tr><td>3</td><td>&quot;I&quot;</td><td>&quot;Venusaur&quot;</td><td>&quot;Fushigibana&quot;</td><td>&quot;grass&quot;</td><td>&quot;poison&quot;</td><td>&quot;Seed Pokémon&quot;</td><td>88.14</td><td>11.86</td><td>2.0</td><td>100.0</td><td>45</td><td>5120</td><td>80</td><td>82</td><td>83</td><td>100</td><td>100</td><td>80</td><td>&quot;Overgrow&quot;</td><td>null</td><td>null</td><td>&quot;Chlorophyll&quot;</td><td>1.0</td><td>2.0</td><td>0.5</td><td>0.5</td><td>0.25</td><td>2.0</td><td>0.5</td><td>1.0</td><td>1.0</td><td>2.0</td><td>2.0</td><td>1.0</td><td>1.0</td><td>1.0</td><td>1.0</td><td>1.0</td><td>1.0</td><td>0.5</td><td>0</td><td>0</td><td>0</td><td>&quot;Bulbasaur&quot;</td><td>&quot;Level &quot;</td><td>&quot;Ivysaur&quot;</td><td>&quot;Level &quot;</td><td>&quot;Venusaur&quot;</td><td>null</td><td>null</td><td>&quot;Gigantamax Venusaur&quot;</td><td>&quot;Mega Venusaur&quot;</td><td>null</td><td>&quot;Its plant blooms when it is ab…</td><td>false</td><td>false</td></tr></tbody></table></div>"
      ],
      "text/plain": [
       "shape: (3, 57)\n",
       "┌────────────┬─────┬────────────┬────────────┬───┬────────────┬────────────┬───────────┬───────────┐\n",
       "│ national_n ┆ gen ┆ english_na ┆ japanese_n ┆ … ┆ mega_evolu ┆ descriptio ┆ attack_gr ┆ sp_attack │\n",
       "│ umber      ┆ --- ┆ me         ┆ ame        ┆   ┆ tion_alt   ┆ n          ┆ eater_100 ┆ _greater_ │\n",
       "│ ---        ┆ str ┆ ---        ┆ ---        ┆   ┆ ---        ┆ ---        ┆ ---       ┆ 100       │\n",
       "│ i64        ┆     ┆ str        ┆ str        ┆   ┆ str        ┆ str        ┆ bool      ┆ ---       │\n",
       "│            ┆     ┆            ┆            ┆   ┆            ┆            ┆           ┆ bool      │\n",
       "╞════════════╪═════╪════════════╪════════════╪═══╪════════════╪════════════╪═══════════╪═══════════╡\n",
       "│ 1          ┆ I   ┆ Bulbasaur  ┆ Fushigidan ┆ … ┆ null       ┆ There is a ┆ false     ┆ false     │\n",
       "│            ┆     ┆            ┆ e          ┆   ┆            ┆ plant seed ┆           ┆           │\n",
       "│            ┆     ┆            ┆            ┆   ┆            ┆ on its b…  ┆           ┆           │\n",
       "│ 2          ┆ I   ┆ Ivysaur    ┆ Fushigisou ┆ … ┆ null       ┆ When the   ┆ false     ┆ false     │\n",
       "│            ┆     ┆            ┆            ┆   ┆            ┆ bulb on    ┆           ┆           │\n",
       "│            ┆     ┆            ┆            ┆   ┆            ┆ its back   ┆           ┆           │\n",
       "│            ┆     ┆            ┆            ┆   ┆            ┆ grow…      ┆           ┆           │\n",
       "│ 3          ┆ I   ┆ Venusaur   ┆ Fushigiban ┆ … ┆ null       ┆ Its plant  ┆ false     ┆ false     │\n",
       "│            ┆     ┆            ┆ a          ┆   ┆            ┆ blooms     ┆           ┆           │\n",
       "│            ┆     ┆            ┆            ┆   ┆            ┆ when it is ┆           ┆           │\n",
       "│            ┆     ┆            ┆            ┆   ┆            ┆ ab…        ┆           ┆           │\n",
       "└────────────┴─────┴────────────┴────────────┴───┴────────────┴────────────┴───────────┴───────────┘"
      ]
     },
     "execution_count": 44,
     "metadata": {},
     "output_type": "execute_result"
    }
   ],
   "source": [
    "# stats: hp, attack, sp_attack, defense, sp_defense, speed\n",
    "\n",
    "pokemon.with_columns(\n",
    "    (pl.col(\"attack\") > 100).alias(\"attack_greater_100\"),\n",
    "    (pl.col(\"sp_attack\") > 100).alias(\"sp_attack_greater_100\"),\n",
    ").head(3)"
   ]
  },
  {
   "cell_type": "markdown",
   "id": "d7a14af4-d29f-449e-82d0-6ad68a3c6cf1",
   "metadata": {},
   "source": [
    "# Expression Expansion"
   ]
  },
  {
   "cell_type": "markdown",
   "id": "34355604-3537-48d3-a644-6bb5a222bb11",
   "metadata": {},
   "source": [
    "## Mechanism that allows you to write many expressions in a single one"
   ]
  },
  {
   "cell_type": "markdown",
   "id": "c4314571-6615-4cf6-9614-3e8dce2dd17f",
   "metadata": {},
   "source": [
    "### Simplest case: refer to multiple columns by name"
   ]
  },
  {
   "cell_type": "code",
   "execution_count": 49,
   "id": "98837800-dd1c-4b1a-9bd8-f601971d1330",
   "metadata": {},
   "outputs": [
    {
     "data": {
      "text/html": [
       "<div><style>\n",
       ".dataframe > thead > tr,\n",
       ".dataframe > tbody > tr {\n",
       "  text-align: right;\n",
       "  white-space: pre-wrap;\n",
       "}\n",
       "</style>\n",
       "<small>shape: (3, 3)</small><table border=\"1\" class=\"dataframe\"><thead><tr><th>attack</th><th>sp_attack</th><th>speed</th></tr><tr><td>bool</td><td>bool</td><td>bool</td></tr></thead><tbody><tr><td>false</td><td>false</td><td>false</td></tr><tr><td>false</td><td>false</td><td>false</td></tr><tr><td>false</td><td>false</td><td>false</td></tr></tbody></table></div>"
      ],
      "text/plain": [
       "shape: (3, 3)\n",
       "┌────────┬───────────┬───────┐\n",
       "│ attack ┆ sp_attack ┆ speed │\n",
       "│ ---    ┆ ---       ┆ ---   │\n",
       "│ bool   ┆ bool      ┆ bool  │\n",
       "╞════════╪═══════════╪═══════╡\n",
       "│ false  ┆ false     ┆ false │\n",
       "│ false  ┆ false     ┆ false │\n",
       "│ false  ┆ false     ┆ false │\n",
       "└────────┴───────────┴───────┘"
      ]
     },
     "execution_count": 49,
     "metadata": {},
     "output_type": "execute_result"
    }
   ],
   "source": [
    "# stats: hp, attack, sp_attack, defense, sp_defense, speed\n",
    "\n",
    "pokemon.select(\n",
    "    (pl.col(\"attack\", \"sp_attack\", \"speed\") > 100)\n",
    ").head(3)"
   ]
  },
  {
   "cell_type": "markdown",
   "id": "82c04eca-e4cb-441b-8978-d6b18035407c",
   "metadata": {},
   "source": [
    "### Renaming multiple columns\n",
    "\n",
    "#### Use the namespace `name`"
   ]
  },
  {
   "cell_type": "code",
   "execution_count": 50,
   "id": "59db4369-9d3a-48e0-bcac-a40f3fbd053f",
   "metadata": {},
   "outputs": [
    {
     "data": {
      "text/html": [
       "<div><style>\n",
       ".dataframe > thead > tr,\n",
       ".dataframe > tbody > tr {\n",
       "  text-align: right;\n",
       "  white-space: pre-wrap;\n",
       "}\n",
       "</style>\n",
       "<small>shape: (3, 3)</small><table border=\"1\" class=\"dataframe\"><thead><tr><th>attack_greater_100</th><th>sp_attack_greater_100</th><th>speed_greater_100</th></tr><tr><td>bool</td><td>bool</td><td>bool</td></tr></thead><tbody><tr><td>false</td><td>false</td><td>false</td></tr><tr><td>false</td><td>false</td><td>false</td></tr><tr><td>false</td><td>false</td><td>false</td></tr></tbody></table></div>"
      ],
      "text/plain": [
       "shape: (3, 3)\n",
       "┌────────────────────┬───────────────────────┬───────────────────┐\n",
       "│ attack_greater_100 ┆ sp_attack_greater_100 ┆ speed_greater_100 │\n",
       "│ ---                ┆ ---                   ┆ ---               │\n",
       "│ bool               ┆ bool                  ┆ bool              │\n",
       "╞════════════════════╪═══════════════════════╪═══════════════════╡\n",
       "│ false              ┆ false                 ┆ false             │\n",
       "│ false              ┆ false                 ┆ false             │\n",
       "│ false              ┆ false                 ┆ false             │\n",
       "└────────────────────┴───────────────────────┴───────────────────┘"
      ]
     },
     "execution_count": 50,
     "metadata": {},
     "output_type": "execute_result"
    }
   ],
   "source": [
    "# stats: hp, attack, sp_attack, defense, sp_defense, speed\n",
    "\n",
    "pokemon.select(\n",
    "    (pl.col(\"attack\", \"sp_attack\", \"speed\") > 100).name.suffix(\"_greater_100\"),\n",
    ").head(3)"
   ]
  },
  {
   "cell_type": "code",
   "execution_count": 51,
   "id": "31cbc8f7-7022-472a-8944-96a268d17fec",
   "metadata": {},
   "outputs": [
    {
     "data": {
      "text/html": [
       "<div><style>\n",
       ".dataframe > thead > tr,\n",
       ".dataframe > tbody > tr {\n",
       "  text-align: right;\n",
       "  white-space: pre-wrap;\n",
       "}\n",
       "</style>\n",
       "<small>shape: (3, 58)</small><table border=\"1\" class=\"dataframe\"><thead><tr><th>national_number</th><th>gen</th><th>english_name</th><th>japanese_name</th><th>primary_type</th><th>secondary_type</th><th>classification</th><th>percent_male</th><th>percent_female</th><th>height_m</th><th>weight_kg</th><th>capture_rate</th><th>base_egg_steps</th><th>hp</th><th>attack</th><th>defense</th><th>sp_attack</th><th>sp_defense</th><th>speed</th><th>abilities_0</th><th>abilities_1</th><th>abilities_2</th><th>abilities_hidden</th><th>against_normal</th><th>against_fire</th><th>against_water</th><th>against_electric</th><th>against_grass</th><th>against_ice</th><th>against_fighting</th><th>against_poison</th><th>against_ground</th><th>against_flying</th><th>against_psychic</th><th>against_bug</th><th>against_rock</th><th>against_ghost</th><th>against_dragon</th><th>against_dark</th><th>against_steel</th><th>against_fairy</th><th>is_sublegendary</th><th>is_legendary</th><th>is_mythical</th><th>evochain_0</th><th>evochain_1</th><th>evochain_2</th><th>evochain_3</th><th>evochain_4</th><th>evochain_5</th><th>evochain_6</th><th>gigantamax</th><th>mega_evolution</th><th>mega_evolution_alt</th><th>description</th><th>attack_greater_100</th><th>sp_attack_greater_100</th><th>speed_greater_100</th></tr><tr><td>i64</td><td>str</td><td>str</td><td>str</td><td>str</td><td>str</td><td>str</td><td>f64</td><td>f64</td><td>f64</td><td>f64</td><td>i64</td><td>i64</td><td>i64</td><td>u16</td><td>i64</td><td>i64</td><td>i64</td><td>u16</td><td>str</td><td>str</td><td>str</td><td>str</td><td>f64</td><td>f64</td><td>f64</td><td>f64</td><td>f64</td><td>f64</td><td>f64</td><td>f64</td><td>f64</td><td>f64</td><td>f64</td><td>f64</td><td>f64</td><td>f64</td><td>f64</td><td>f64</td><td>f64</td><td>f64</td><td>i64</td><td>i64</td><td>i64</td><td>str</td><td>str</td><td>str</td><td>str</td><td>str</td><td>str</td><td>str</td><td>str</td><td>str</td><td>str</td><td>str</td><td>bool</td><td>bool</td><td>bool</td></tr></thead><tbody><tr><td>1</td><td>&quot;I&quot;</td><td>&quot;Bulbasaur&quot;</td><td>&quot;Fushigidane&quot;</td><td>&quot;grass&quot;</td><td>&quot;poison&quot;</td><td>&quot;Seed Pokémon&quot;</td><td>88.14</td><td>11.86</td><td>0.7</td><td>6.9</td><td>45</td><td>5120</td><td>45</td><td>49</td><td>49</td><td>65</td><td>65</td><td>45</td><td>&quot;Overgrow&quot;</td><td>null</td><td>null</td><td>&quot;Chlorophyll&quot;</td><td>1.0</td><td>2.0</td><td>0.5</td><td>0.5</td><td>0.25</td><td>2.0</td><td>0.5</td><td>1.0</td><td>1.0</td><td>2.0</td><td>2.0</td><td>1.0</td><td>1.0</td><td>1.0</td><td>1.0</td><td>1.0</td><td>1.0</td><td>0.5</td><td>0</td><td>0</td><td>0</td><td>&quot;Bulbasaur&quot;</td><td>&quot;Level &quot;</td><td>&quot;Ivysaur&quot;</td><td>&quot;Level &quot;</td><td>&quot;Venusaur&quot;</td><td>null</td><td>null</td><td>null</td><td>null</td><td>null</td><td>&quot;There is a plant seed on its b…</td><td>false</td><td>false</td><td>false</td></tr><tr><td>2</td><td>&quot;I&quot;</td><td>&quot;Ivysaur&quot;</td><td>&quot;Fushigisou&quot;</td><td>&quot;grass&quot;</td><td>&quot;poison&quot;</td><td>&quot;Seed Pokémon&quot;</td><td>88.14</td><td>11.86</td><td>1.0</td><td>13.0</td><td>45</td><td>5120</td><td>60</td><td>62</td><td>63</td><td>80</td><td>80</td><td>60</td><td>&quot;Overgrow&quot;</td><td>null</td><td>null</td><td>&quot;Chlorophyll&quot;</td><td>1.0</td><td>2.0</td><td>0.5</td><td>0.5</td><td>0.25</td><td>2.0</td><td>0.5</td><td>1.0</td><td>1.0</td><td>2.0</td><td>2.0</td><td>1.0</td><td>1.0</td><td>1.0</td><td>1.0</td><td>1.0</td><td>1.0</td><td>0.5</td><td>0</td><td>0</td><td>0</td><td>&quot;Bulbasaur&quot;</td><td>&quot;Level &quot;</td><td>&quot;Ivysaur&quot;</td><td>&quot;Level &quot;</td><td>&quot;Venusaur&quot;</td><td>null</td><td>null</td><td>null</td><td>null</td><td>null</td><td>&quot;When the bulb on its back grow…</td><td>false</td><td>false</td><td>false</td></tr><tr><td>3</td><td>&quot;I&quot;</td><td>&quot;Venusaur&quot;</td><td>&quot;Fushigibana&quot;</td><td>&quot;grass&quot;</td><td>&quot;poison&quot;</td><td>&quot;Seed Pokémon&quot;</td><td>88.14</td><td>11.86</td><td>2.0</td><td>100.0</td><td>45</td><td>5120</td><td>80</td><td>82</td><td>83</td><td>100</td><td>100</td><td>80</td><td>&quot;Overgrow&quot;</td><td>null</td><td>null</td><td>&quot;Chlorophyll&quot;</td><td>1.0</td><td>2.0</td><td>0.5</td><td>0.5</td><td>0.25</td><td>2.0</td><td>0.5</td><td>1.0</td><td>1.0</td><td>2.0</td><td>2.0</td><td>1.0</td><td>1.0</td><td>1.0</td><td>1.0</td><td>1.0</td><td>1.0</td><td>0.5</td><td>0</td><td>0</td><td>0</td><td>&quot;Bulbasaur&quot;</td><td>&quot;Level &quot;</td><td>&quot;Ivysaur&quot;</td><td>&quot;Level &quot;</td><td>&quot;Venusaur&quot;</td><td>null</td><td>null</td><td>&quot;Gigantamax Venusaur&quot;</td><td>&quot;Mega Venusaur&quot;</td><td>null</td><td>&quot;Its plant blooms when it is ab…</td><td>false</td><td>false</td><td>false</td></tr></tbody></table></div>"
      ],
      "text/plain": [
       "shape: (3, 58)\n",
       "┌────────────┬─────┬────────────┬────────────┬───┬────────────┬────────────┬───────────┬───────────┐\n",
       "│ national_n ┆ gen ┆ english_na ┆ japanese_n ┆ … ┆ descriptio ┆ attack_gre ┆ sp_attack ┆ speed_gre │\n",
       "│ umber      ┆ --- ┆ me         ┆ ame        ┆   ┆ n          ┆ ater_100   ┆ _greater_ ┆ ater_100  │\n",
       "│ ---        ┆ str ┆ ---        ┆ ---        ┆   ┆ ---        ┆ ---        ┆ 100       ┆ ---       │\n",
       "│ i64        ┆     ┆ str        ┆ str        ┆   ┆ str        ┆ bool       ┆ ---       ┆ bool      │\n",
       "│            ┆     ┆            ┆            ┆   ┆            ┆            ┆ bool      ┆           │\n",
       "╞════════════╪═════╪════════════╪════════════╪═══╪════════════╪════════════╪═══════════╪═══════════╡\n",
       "│ 1          ┆ I   ┆ Bulbasaur  ┆ Fushigidan ┆ … ┆ There is a ┆ false      ┆ false     ┆ false     │\n",
       "│            ┆     ┆            ┆ e          ┆   ┆ plant seed ┆            ┆           ┆           │\n",
       "│            ┆     ┆            ┆            ┆   ┆ on its b…  ┆            ┆           ┆           │\n",
       "│ 2          ┆ I   ┆ Ivysaur    ┆ Fushigisou ┆ … ┆ When the   ┆ false      ┆ false     ┆ false     │\n",
       "│            ┆     ┆            ┆            ┆   ┆ bulb on    ┆            ┆           ┆           │\n",
       "│            ┆     ┆            ┆            ┆   ┆ its back   ┆            ┆           ┆           │\n",
       "│            ┆     ┆            ┆            ┆   ┆ grow…      ┆            ┆           ┆           │\n",
       "│ 3          ┆ I   ┆ Venusaur   ┆ Fushigiban ┆ … ┆ Its plant  ┆ false      ┆ false     ┆ false     │\n",
       "│            ┆     ┆            ┆ a          ┆   ┆ blooms     ┆            ┆           ┆           │\n",
       "│            ┆     ┆            ┆            ┆   ┆ when it is ┆            ┆           ┆           │\n",
       "│            ┆     ┆            ┆            ┆   ┆ ab…        ┆            ┆           ┆           │\n",
       "└────────────┴─────┴────────────┴────────────┴───┴────────────┴────────────┴───────────┴───────────┘"
      ]
     },
     "execution_count": 51,
     "metadata": {},
     "output_type": "execute_result"
    }
   ],
   "source": [
    "# stats: hp, attack, sp_attack, defense, sp_defense, speed\n",
    "\n",
    "pokemon.with_columns(\n",
    "    (pl.col(\"attack\", \"sp_attack\", \"speed\") > 100).name.suffix(\"_greater_100\"),\n",
    ").head(3)"
   ]
  },
  {
   "cell_type": "code",
   "execution_count": 52,
   "id": "ccffe85a-54df-4f30-aa3e-5ebf533a4964",
   "metadata": {},
   "outputs": [],
   "source": [
    "stats = [\"hp\", \"attack\", \"sp_attack\", \"defense\", \"sp_defense\", \"speed\"]"
   ]
  },
  {
   "cell_type": "markdown",
   "id": "3e856bc9-b4be-461a-9722-76a5f62ec1a1",
   "metadata": {},
   "source": [
    "## Select column names with regex\n",
    "\n",
    "### Similar to `pl.col(name)` but the string starts with `^` and ends with the special character `$`"
   ]
  },
  {
   "cell_type": "code",
   "execution_count": 54,
   "id": "90d2d148-2c0d-4d92-9f67-e8646afd40d8",
   "metadata": {},
   "outputs": [
    {
     "data": {
      "text/html": [
       "<div><style>\n",
       ".dataframe > thead > tr,\n",
       ".dataframe > tbody > tr {\n",
       "  text-align: right;\n",
       "  white-space: pre-wrap;\n",
       "}\n",
       "</style>\n",
       "<small>shape: (898, 2)</small><table border=\"1\" class=\"dataframe\"><thead><tr><th>primary_type</th><th>secondary_type</th></tr><tr><td>str</td><td>str</td></tr></thead><tbody><tr><td>&quot;grass&quot;</td><td>&quot;poison&quot;</td></tr><tr><td>&quot;grass&quot;</td><td>&quot;poison&quot;</td></tr><tr><td>&quot;grass&quot;</td><td>&quot;poison&quot;</td></tr><tr><td>&quot;fire&quot;</td><td>null</td></tr><tr><td>&quot;fire&quot;</td><td>null</td></tr><tr><td>&hellip;</td><td>&hellip;</td></tr><tr><td>&quot;electric&quot;</td><td>null</td></tr><tr><td>&quot;dragon&quot;</td><td>null</td></tr><tr><td>&quot;ice&quot;</td><td>null</td></tr><tr><td>&quot;ghost&quot;</td><td>null</td></tr><tr><td>&quot;psychic&quot;</td><td>&quot;grass&quot;</td></tr></tbody></table></div>"
      ],
      "text/plain": [
       "shape: (898, 2)\n",
       "┌──────────────┬────────────────┐\n",
       "│ primary_type ┆ secondary_type │\n",
       "│ ---          ┆ ---            │\n",
       "│ str          ┆ str            │\n",
       "╞══════════════╪════════════════╡\n",
       "│ grass        ┆ poison         │\n",
       "│ grass        ┆ poison         │\n",
       "│ grass        ┆ poison         │\n",
       "│ fire         ┆ null           │\n",
       "│ fire         ┆ null           │\n",
       "│ …            ┆ …              │\n",
       "│ electric     ┆ null           │\n",
       "│ dragon       ┆ null           │\n",
       "│ ice          ┆ null           │\n",
       "│ ghost        ┆ null           │\n",
       "│ psychic      ┆ grass          │\n",
       "└──────────────┴────────────────┘"
      ]
     },
     "execution_count": 54,
     "metadata": {},
     "output_type": "execute_result"
    }
   ],
   "source": [
    "pokemon.select(\n",
    "    pl.col(r\"^.*_type$\"),\n",
    ")"
   ]
  },
  {
   "cell_type": "markdown",
   "id": "22ee2342-4811-42c3-84ac-ef5bdfb3af18",
   "metadata": {},
   "source": [
    "## Select columns by data type"
   ]
  },
  {
   "cell_type": "code",
   "execution_count": 57,
   "id": "636a66e3-9031-4862-be6d-c9259f073ae5",
   "metadata": {},
   "outputs": [
    {
     "data": {
      "text/html": [
       "<div><style>\n",
       ".dataframe > thead > tr,\n",
       ".dataframe > tbody > tr {\n",
       "  text-align: right;\n",
       "  white-space: pre-wrap;\n",
       "}\n",
       "</style>\n",
       "<small>shape: (898, 10)</small><table border=\"1\" class=\"dataframe\"><thead><tr><th>national_number</th><th>capture_rate</th><th>base_egg_steps</th><th>hp</th><th>defense</th><th>sp_attack</th><th>sp_defense</th><th>is_sublegendary</th><th>is_legendary</th><th>is_mythical</th></tr><tr><td>i64</td><td>i64</td><td>i64</td><td>i64</td><td>i64</td><td>i64</td><td>i64</td><td>i64</td><td>i64</td><td>i64</td></tr></thead><tbody><tr><td>1</td><td>45</td><td>5120</td><td>45</td><td>49</td><td>65</td><td>65</td><td>0</td><td>0</td><td>0</td></tr><tr><td>2</td><td>45</td><td>5120</td><td>60</td><td>63</td><td>80</td><td>80</td><td>0</td><td>0</td><td>0</td></tr><tr><td>3</td><td>45</td><td>5120</td><td>80</td><td>83</td><td>100</td><td>100</td><td>0</td><td>0</td><td>0</td></tr><tr><td>4</td><td>45</td><td>5120</td><td>39</td><td>43</td><td>60</td><td>50</td><td>0</td><td>0</td><td>0</td></tr><tr><td>5</td><td>45</td><td>5120</td><td>58</td><td>58</td><td>80</td><td>65</td><td>0</td><td>0</td><td>0</td></tr><tr><td>&hellip;</td><td>&hellip;</td><td>&hellip;</td><td>&hellip;</td><td>&hellip;</td><td>&hellip;</td><td>&hellip;</td><td>&hellip;</td><td>&hellip;</td><td>&hellip;</td></tr><tr><td>894</td><td>3</td><td>30720</td><td>80</td><td>50</td><td>100</td><td>50</td><td>1</td><td>0</td><td>0</td></tr><tr><td>895</td><td>3</td><td>30720</td><td>200</td><td>50</td><td>100</td><td>50</td><td>1</td><td>0</td><td>0</td></tr><tr><td>896</td><td>3</td><td>30720</td><td>100</td><td>130</td><td>65</td><td>110</td><td>1</td><td>0</td><td>0</td></tr><tr><td>897</td><td>3</td><td>30720</td><td>100</td><td>60</td><td>145</td><td>80</td><td>0</td><td>0</td><td>0</td></tr><tr><td>898</td><td>3</td><td>30720</td><td>100</td><td>80</td><td>80</td><td>80</td><td>0</td><td>0</td><td>0</td></tr></tbody></table></div>"
      ],
      "text/plain": [
       "shape: (898, 10)\n",
       "┌────────────┬────────────┬────────────┬─────┬───┬────────────┬────────────┬───────────┬───────────┐\n",
       "│ national_n ┆ capture_ra ┆ base_egg_s ┆ hp  ┆ … ┆ sp_defense ┆ is_sublege ┆ is_legend ┆ is_mythic │\n",
       "│ umber      ┆ te         ┆ teps       ┆ --- ┆   ┆ ---        ┆ ndary      ┆ ary       ┆ al        │\n",
       "│ ---        ┆ ---        ┆ ---        ┆ i64 ┆   ┆ i64        ┆ ---        ┆ ---       ┆ ---       │\n",
       "│ i64        ┆ i64        ┆ i64        ┆     ┆   ┆            ┆ i64        ┆ i64       ┆ i64       │\n",
       "╞════════════╪════════════╪════════════╪═════╪═══╪════════════╪════════════╪═══════════╪═══════════╡\n",
       "│ 1          ┆ 45         ┆ 5120       ┆ 45  ┆ … ┆ 65         ┆ 0          ┆ 0         ┆ 0         │\n",
       "│ 2          ┆ 45         ┆ 5120       ┆ 60  ┆ … ┆ 80         ┆ 0          ┆ 0         ┆ 0         │\n",
       "│ 3          ┆ 45         ┆ 5120       ┆ 80  ┆ … ┆ 100        ┆ 0          ┆ 0         ┆ 0         │\n",
       "│ 4          ┆ 45         ┆ 5120       ┆ 39  ┆ … ┆ 50         ┆ 0          ┆ 0         ┆ 0         │\n",
       "│ 5          ┆ 45         ┆ 5120       ┆ 58  ┆ … ┆ 65         ┆ 0          ┆ 0         ┆ 0         │\n",
       "│ …          ┆ …          ┆ …          ┆ …   ┆ … ┆ …          ┆ …          ┆ …         ┆ …         │\n",
       "│ 894        ┆ 3          ┆ 30720      ┆ 80  ┆ … ┆ 50         ┆ 1          ┆ 0         ┆ 0         │\n",
       "│ 895        ┆ 3          ┆ 30720      ┆ 200 ┆ … ┆ 50         ┆ 1          ┆ 0         ┆ 0         │\n",
       "│ 896        ┆ 3          ┆ 30720      ┆ 100 ┆ … ┆ 110        ┆ 1          ┆ 0         ┆ 0         │\n",
       "│ 897        ┆ 3          ┆ 30720      ┆ 100 ┆ … ┆ 80         ┆ 0          ┆ 0         ┆ 0         │\n",
       "│ 898        ┆ 3          ┆ 30720      ┆ 100 ┆ … ┆ 80         ┆ 0          ┆ 0         ┆ 0         │\n",
       "└────────────┴────────────┴────────────┴─────┴───┴────────────┴────────────┴───────────┴───────────┘"
      ]
     },
     "execution_count": 57,
     "metadata": {},
     "output_type": "execute_result"
    }
   ],
   "source": [
    "pokemon.select(\n",
    "    pl.col(pl.Int64)  # .cast(pl.UInt16),\n",
    ")"
   ]
  },
  {
   "cell_type": "markdown",
   "id": "a56aee91-9285-4e1f-aa25-767824468102",
   "metadata": {},
   "source": [
    "## Exercises\n",
    "\n",
    "- Fix the types of all six stats so they `UInt16` instead of `Int64`\n",
    "- Compute the “base_X” value of each stat (except HP) with the formula `2 * stat + 5`\n",
    "- Write a chain of expressions and contexts that goes from the original CSV and performs the following clean up:\n",
    "    - retains only the columns with the english name, generation, primary and secondary types, the 6 stats, and the three `\"is_...\"` flags\n",
    "    - fix the types of the three flags to be Boolean\n",
    "    - fix the types of the stats to be `UInt16`\n",
    "    - adds the 6 columns with the computed stats as per the previous exercise"
   ]
  },
  {
   "cell_type": "code",
   "execution_count": null,
   "id": "e5eab74f-10cc-423d-911c-c26f92c65a5a",
   "metadata": {},
   "outputs": [],
   "source": []
  }
 ],
 "metadata": {
  "kernelspec": {
   "display_name": "Python 3 (ipykernel)",
   "language": "python",
   "name": "python3"
  },
  "language_info": {
   "codemirror_mode": {
    "name": "ipython",
    "version": 3
   },
   "file_extension": ".py",
   "mimetype": "text/x-python",
   "name": "python",
   "nbconvert_exporter": "python",
   "pygments_lexer": "ipython3",
   "version": "3.13.3"
  }
 },
 "nbformat": 4,
 "nbformat_minor": 5
}
