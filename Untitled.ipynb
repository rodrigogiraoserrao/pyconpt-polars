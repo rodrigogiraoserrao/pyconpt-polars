{
 "cells": [
  {
   "cell_type": "markdown",
   "id": "418b396b-e647-4915-b9c7-1f5a702d75a7",
   "metadata": {},
   "source": [
    "# Repo\n",
    "\n",
    "github.com/rodrigogiraoserrao -> PyConPt-polars (most recent repo)\n",
    "\n",
    "# Data\n",
    "\n",
    "gist.github.com/rodrigogiraoserrao -> pokemon.csv (most recent gist)\n",
    "\n",
    "# Install polars\n",
    "\n",
    "Install polars so you can solve the exercises"
   ]
  },
  {
   "cell_type": "code",
   "execution_count": 1,
   "id": "1cc71e8d-9f71-4bce-9b20-9a738be39b53",
   "metadata": {},
   "outputs": [
    {
     "name": "stdout",
     "output_type": "stream",
     "text": [
      "Hello, world!\n"
     ]
    }
   ],
   "source": [
    "print(\"Hello, world!\")"
   ]
  },
  {
   "cell_type": "markdown",
   "id": "3c781809-d669-4363-82e0-7bff663da357",
   "metadata": {},
   "source": [
    "# Plan\n",
    "\n",
    "- Intro-level workshop.\n",
    "- Learn about the basics of Polars\n",
    "\n",
    "# Structure\n",
    "\n",
    "- 4 sections of 30' each\n",
    "- Each section has 15' “hands-on theory” + 15' for exercises\n",
    "\n",
    "1. The basic concepts of Polars: expressions & contexts\n",
    "2. Expression expansion\n",
    "3. Data transformations (joins)\n",
    "4. Lazy API (_the_ big selling point of Polars)"
   ]
  },
  {
   "cell_type": "code",
   "execution_count": 2,
   "id": "1413597a-92c0-4a45-a61e-96a4dcd5f8e3",
   "metadata": {},
   "outputs": [],
   "source": [
    "import polars as pl  # shorthand"
   ]
  },
  {
   "cell_type": "code",
   "execution_count": 3,
   "id": "35e19a0e-c4ce-4b08-bb5b-8345ffdec015",
   "metadata": {},
   "outputs": [
    {
     "name": "stdout",
     "output_type": "stream",
     "text": [
      "--------Version info---------\n",
      "Polars:              1.30.0\n",
      "Index type:          UInt32\n",
      "Platform:            macOS-15.5-arm64-arm-64bit-Mach-O\n",
      "Python:              3.13.3 (main, Apr  9 2025, 03:47:57) [Clang 20.1.0 ]\n",
      "LTS CPU:             False\n",
      "\n",
      "----Optional dependencies----\n",
      "Azure CLI            <not installed>\n",
      "adbc_driver_manager  <not installed>\n",
      "altair               <not installed>\n",
      "azure.identity       <not installed>\n",
      "boto3                <not installed>\n",
      "cloudpickle          <not installed>\n",
      "connectorx           <not installed>\n",
      "deltalake            <not installed>\n",
      "fastexcel            <not installed>\n",
      "fsspec               <not installed>\n",
      "gevent               <not installed>\n",
      "google.auth          <not installed>\n",
      "great_tables         <not installed>\n",
      "matplotlib           <not installed>\n",
      "numpy                2.2.6\n",
      "openpyxl             <not installed>\n",
      "pandas               2.2.3\n",
      "polars_cloud         <not installed>\n",
      "pyarrow              <not installed>\n",
      "pydantic             <not installed>\n",
      "pyiceberg            <not installed>\n",
      "sqlalchemy           <not installed>\n",
      "torch                <not installed>\n",
      "xlsx2csv             <not installed>\n",
      "xlsxwriter           <not installed>\n"
     ]
    }
   ],
   "source": [
    "pl.show_versions()"
   ]
  },
  {
   "cell_type": "code",
   "execution_count": null,
   "id": "8ab8cc43-c8f0-46ac-a194-eabbb23311a1",
   "metadata": {},
   "outputs": [],
   "source": []
  }
 ],
 "metadata": {
  "kernelspec": {
   "display_name": "Python 3 (ipykernel)",
   "language": "python",
   "name": "python3"
  },
  "language_info": {
   "codemirror_mode": {
    "name": "ipython",
    "version": 3
   },
   "file_extension": ".py",
   "mimetype": "text/x-python",
   "name": "python",
   "nbconvert_exporter": "python",
   "pygments_lexer": "ipython3",
   "version": "3.13.3"
  }
 },
 "nbformat": 4,
 "nbformat_minor": 5
}
