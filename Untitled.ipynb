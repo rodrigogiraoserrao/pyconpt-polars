{
 "cells": [
  {
   "cell_type": "markdown",
   "id": "418b396b-e647-4915-b9c7-1f5a702d75a7",
   "metadata": {},
   "source": [
    "# Repo\n",
    "\n",
    "github.com/rodrigogiraoserrao -> PyConPt-polars (most recent repo)\n",
    "\n",
    "# Data\n",
    "\n",
    "gist.github.com/rodrigogiraoserrao -> pokemon.csv (most recent gist)\n",
    "\n",
    "# Install polars\n",
    "\n",
    "Install polars so you can solve the exercises"
   ]
  },
  {
   "cell_type": "code",
   "execution_count": 1,
   "id": "1cc71e8d-9f71-4bce-9b20-9a738be39b53",
   "metadata": {},
   "outputs": [
    {
     "name": "stdout",
     "output_type": "stream",
     "text": [
      "Hello, world!\n"
     ]
    }
   ],
   "source": [
    "print(\"Hello, world!\")"
   ]
  },
  {
   "cell_type": "markdown",
   "id": "3c781809-d669-4363-82e0-7bff663da357",
   "metadata": {},
   "source": [
    "# Plan\n",
    "\n"
   ]
  }
 ],
 "metadata": {
  "kernelspec": {
   "display_name": "Python 3 (ipykernel)",
   "language": "python",
   "name": "python3"
  },
  "language_info": {
   "codemirror_mode": {
    "name": "ipython",
    "version": 3
   },
   "file_extension": ".py",
   "mimetype": "text/x-python",
   "name": "python",
   "nbconvert_exporter": "python",
   "pygments_lexer": "ipython3",
   "version": "3.13.3"
  }
 },
 "nbformat": 4,
 "nbformat_minor": 5
}
