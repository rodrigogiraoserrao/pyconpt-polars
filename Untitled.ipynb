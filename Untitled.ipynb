{
 "cells": [
  {
   "cell_type": "markdown",
   "id": "418b396b-e647-4915-b9c7-1f5a702d75a7",
   "metadata": {},
   "source": [
    "# Repo\n",
    "\n",
    "github.com/rodrigogiraoserrao -> PyConPt-polars (most recent repo)\n",
    "\n",
    "# Data\n",
    "\n",
    "gist.github.com/rodrigogiraoserrao -> pokemon.csv (most recent gist)\n",
    "\n",
    "# Install polars\n",
    "\n",
    "Install polars so you can solve the exercises"
   ]
  },
  {
   "cell_type": "code",
   "execution_count": 1,
   "id": "1cc71e8d-9f71-4bce-9b20-9a738be39b53",
   "metadata": {},
   "outputs": [
    {
     "name": "stdout",
     "output_type": "stream",
     "text": [
      "Hello, world!\n"
     ]
    }
   ],
   "source": [
    "print(\"Hello, world!\")"
   ]
  },
  {
   "cell_type": "markdown",
   "id": "3c781809-d669-4363-82e0-7bff663da357",
   "metadata": {},
   "source": [
    "# Plan\n",
    "\n",
    "- Intro-level workshop.\n",
    "- Learn about the basics of Polars\n",
    "\n",
    "# Structure\n",
    "\n",
    "- 4 sections of 30' each\n",
    "- Each section has 15' “hands-on theory” + 15' for exercises\n",
    "\n",
    "1. The basic concepts of Polars: expressions & contexts\n",
    "2. Expression expansion\n",
    "3. Data transformations (joins)\n",
    "4. Lazy API (_the_ big selling point of Polars)"
   ]
  },
  {
   "cell_type": "code",
   "execution_count": 2,
   "id": "1413597a-92c0-4a45-a61e-96a4dcd5f8e3",
   "metadata": {},
   "outputs": [],
   "source": [
    "import polars as pl  # shorthand"
   ]
  },
  {
   "cell_type": "code",
   "execution_count": 4,
   "id": "35e19a0e-c4ce-4b08-bb5b-8345ffdec015",
   "metadata": {},
   "outputs": [
    {
     "name": "stdout",
     "output_type": "stream",
     "text": [
      "--------Version info---------\n",
      "Polars:              1.30.0\n",
      "Index type:          UInt32\n",
      "Platform:            macOS-15.5-arm64-arm-64bit-Mach-O\n",
      "Python:              3.13.3 (main, Apr  9 2025, 03:47:57) [Clang 20.1.0 ]\n",
      "LTS CPU:             False\n",
      "\n",
      "----Optional dependencies----\n",
      "Azure CLI            <not installed>\n",
      "adbc_driver_manager  <not installed>\n",
      "altair               <not installed>\n",
      "azure.identity       <not installed>\n",
      "boto3                <not installed>\n",
      "cloudpickle          <not installed>\n",
      "connectorx           <not installed>\n",
      "deltalake            <not installed>\n",
      "fastexcel            <not installed>\n",
      "fsspec               <not installed>\n",
      "gevent               <not installed>\n",
      "google.auth          <not installed>\n",
      "great_tables         <not installed>\n",
      "matplotlib           <not installed>\n",
      "numpy                2.2.6\n",
      "openpyxl             <not installed>\n",
      "pandas               2.2.3\n",
      "polars_cloud         <not installed>\n",
      "pyarrow              <not installed>\n",
      "pydantic             <not installed>\n",
      "pyiceberg            <not installed>\n",
      "sqlalchemy           <not installed>\n",
      "torch                <not installed>\n",
      "xlsx2csv             <not installed>\n",
      "xlsxwriter           <not installed>\n"
     ]
    }
   ],
   "source": [
    "pl.show_versions()"
   ]
  },
  {
   "cell_type": "code",
   "execution_count": 5,
   "id": "8ab8cc43-c8f0-46ac-a194-eabbb23311a1",
   "metadata": {},
   "outputs": [],
   "source": [
    "pokemon = pl.read_csv(\"https://gist.githubusercontent.com/rodrigogiraoserrao/081547f4b9071d9e29423d31fe4ba978/raw/6adfb37b8bbc9eb7021fb1a19a40015c8cf0016b/pokemon.csv\")"
   ]
  },
  {
   "cell_type": "code",
   "execution_count": 6,
   "id": "25e11aa0-9300-4bb5-af5b-af4b32db47b1",
   "metadata": {},
   "outputs": [
    {
     "data": {
      "text/html": [
       "<div><style>\n",
       ".dataframe > thead > tr,\n",
       ".dataframe > tbody > tr {\n",
       "  text-align: right;\n",
       "  white-space: pre-wrap;\n",
       "}\n",
       "</style>\n",
       "<small>shape: (5, 55)</small><table border=\"1\" class=\"dataframe\"><thead><tr><th>national_number</th><th>gen</th><th>english_name</th><th>japanese_name</th><th>primary_type</th><th>secondary_type</th><th>classification</th><th>percent_male</th><th>percent_female</th><th>height_m</th><th>weight_kg</th><th>capture_rate</th><th>base_egg_steps</th><th>hp</th><th>attack</th><th>defense</th><th>sp_attack</th><th>sp_defense</th><th>speed</th><th>abilities_0</th><th>abilities_1</th><th>abilities_2</th><th>abilities_hidden</th><th>against_normal</th><th>against_fire</th><th>against_water</th><th>against_electric</th><th>against_grass</th><th>against_ice</th><th>against_fighting</th><th>against_poison</th><th>against_ground</th><th>against_flying</th><th>against_psychic</th><th>against_bug</th><th>against_rock</th><th>against_ghost</th><th>against_dragon</th><th>against_dark</th><th>against_steel</th><th>against_fairy</th><th>is_sublegendary</th><th>is_legendary</th><th>is_mythical</th><th>evochain_0</th><th>evochain_1</th><th>evochain_2</th><th>evochain_3</th><th>evochain_4</th><th>evochain_5</th><th>evochain_6</th><th>gigantamax</th><th>mega_evolution</th><th>mega_evolution_alt</th><th>description</th></tr><tr><td>i64</td><td>str</td><td>str</td><td>str</td><td>str</td><td>str</td><td>str</td><td>f64</td><td>f64</td><td>f64</td><td>f64</td><td>i64</td><td>i64</td><td>i64</td><td>i64</td><td>i64</td><td>i64</td><td>i64</td><td>i64</td><td>str</td><td>str</td><td>str</td><td>str</td><td>f64</td><td>f64</td><td>f64</td><td>f64</td><td>f64</td><td>f64</td><td>f64</td><td>f64</td><td>f64</td><td>f64</td><td>f64</td><td>f64</td><td>f64</td><td>f64</td><td>f64</td><td>f64</td><td>f64</td><td>f64</td><td>i64</td><td>i64</td><td>i64</td><td>str</td><td>str</td><td>str</td><td>str</td><td>str</td><td>str</td><td>str</td><td>str</td><td>str</td><td>str</td><td>str</td></tr></thead><tbody><tr><td>1</td><td>&quot;I&quot;</td><td>&quot;Bulbasaur&quot;</td><td>&quot;Fushigidane&quot;</td><td>&quot;grass&quot;</td><td>&quot;poison&quot;</td><td>&quot;Seed Pokémon&quot;</td><td>88.14</td><td>11.86</td><td>0.7</td><td>6.9</td><td>45</td><td>5120</td><td>45</td><td>49</td><td>49</td><td>65</td><td>65</td><td>45</td><td>&quot;Overgrow&quot;</td><td>null</td><td>null</td><td>&quot;Chlorophyll&quot;</td><td>1.0</td><td>2.0</td><td>0.5</td><td>0.5</td><td>0.25</td><td>2.0</td><td>0.5</td><td>1.0</td><td>1.0</td><td>2.0</td><td>2.0</td><td>1.0</td><td>1.0</td><td>1.0</td><td>1.0</td><td>1.0</td><td>1.0</td><td>0.5</td><td>0</td><td>0</td><td>0</td><td>&quot;Bulbasaur&quot;</td><td>&quot;Level &quot;</td><td>&quot;Ivysaur&quot;</td><td>&quot;Level &quot;</td><td>&quot;Venusaur&quot;</td><td>null</td><td>null</td><td>null</td><td>null</td><td>null</td><td>&quot;There is a plant seed on its b…</td></tr><tr><td>2</td><td>&quot;I&quot;</td><td>&quot;Ivysaur&quot;</td><td>&quot;Fushigisou&quot;</td><td>&quot;grass&quot;</td><td>&quot;poison&quot;</td><td>&quot;Seed Pokémon&quot;</td><td>88.14</td><td>11.86</td><td>1.0</td><td>13.0</td><td>45</td><td>5120</td><td>60</td><td>62</td><td>63</td><td>80</td><td>80</td><td>60</td><td>&quot;Overgrow&quot;</td><td>null</td><td>null</td><td>&quot;Chlorophyll&quot;</td><td>1.0</td><td>2.0</td><td>0.5</td><td>0.5</td><td>0.25</td><td>2.0</td><td>0.5</td><td>1.0</td><td>1.0</td><td>2.0</td><td>2.0</td><td>1.0</td><td>1.0</td><td>1.0</td><td>1.0</td><td>1.0</td><td>1.0</td><td>0.5</td><td>0</td><td>0</td><td>0</td><td>&quot;Bulbasaur&quot;</td><td>&quot;Level &quot;</td><td>&quot;Ivysaur&quot;</td><td>&quot;Level &quot;</td><td>&quot;Venusaur&quot;</td><td>null</td><td>null</td><td>null</td><td>null</td><td>null</td><td>&quot;When the bulb on its back grow…</td></tr><tr><td>3</td><td>&quot;I&quot;</td><td>&quot;Venusaur&quot;</td><td>&quot;Fushigibana&quot;</td><td>&quot;grass&quot;</td><td>&quot;poison&quot;</td><td>&quot;Seed Pokémon&quot;</td><td>88.14</td><td>11.86</td><td>2.0</td><td>100.0</td><td>45</td><td>5120</td><td>80</td><td>82</td><td>83</td><td>100</td><td>100</td><td>80</td><td>&quot;Overgrow&quot;</td><td>null</td><td>null</td><td>&quot;Chlorophyll&quot;</td><td>1.0</td><td>2.0</td><td>0.5</td><td>0.5</td><td>0.25</td><td>2.0</td><td>0.5</td><td>1.0</td><td>1.0</td><td>2.0</td><td>2.0</td><td>1.0</td><td>1.0</td><td>1.0</td><td>1.0</td><td>1.0</td><td>1.0</td><td>0.5</td><td>0</td><td>0</td><td>0</td><td>&quot;Bulbasaur&quot;</td><td>&quot;Level &quot;</td><td>&quot;Ivysaur&quot;</td><td>&quot;Level &quot;</td><td>&quot;Venusaur&quot;</td><td>null</td><td>null</td><td>&quot;Gigantamax Venusaur&quot;</td><td>&quot;Mega Venusaur&quot;</td><td>null</td><td>&quot;Its plant blooms when it is ab…</td></tr><tr><td>4</td><td>&quot;I&quot;</td><td>&quot;Charmander&quot;</td><td>&quot;Hitokage&quot;</td><td>&quot;fire&quot;</td><td>null</td><td>&quot;Lizard Pokémon&quot;</td><td>88.14</td><td>11.86</td><td>0.6</td><td>8.5</td><td>45</td><td>5120</td><td>39</td><td>52</td><td>43</td><td>60</td><td>50</td><td>65</td><td>&quot;Blaze&quot;</td><td>null</td><td>null</td><td>&quot;Solar Power&quot;</td><td>1.0</td><td>0.5</td><td>2.0</td><td>1.0</td><td>0.5</td><td>0.5</td><td>1.0</td><td>1.0</td><td>2.0</td><td>1.0</td><td>1.0</td><td>0.5</td><td>2.0</td><td>1.0</td><td>1.0</td><td>1.0</td><td>0.5</td><td>0.5</td><td>0</td><td>0</td><td>0</td><td>&quot;Charmander&quot;</td><td>&quot;Level &quot;</td><td>&quot;Charmeleon&quot;</td><td>&quot;Level &quot;</td><td>&quot;Charizard&quot;</td><td>null</td><td>null</td><td>null</td><td>null</td><td>null</td><td>&quot;It has a preference for hot th…</td></tr><tr><td>5</td><td>&quot;I&quot;</td><td>&quot;Charmeleon&quot;</td><td>&quot;Lizardo&quot;</td><td>&quot;fire&quot;</td><td>null</td><td>&quot;Flame Pokémon&quot;</td><td>88.14</td><td>11.86</td><td>1.1</td><td>19.0</td><td>45</td><td>5120</td><td>58</td><td>64</td><td>58</td><td>80</td><td>65</td><td>80</td><td>&quot;Blaze&quot;</td><td>null</td><td>null</td><td>&quot;Solar Power&quot;</td><td>1.0</td><td>0.5</td><td>2.0</td><td>1.0</td><td>0.5</td><td>0.5</td><td>1.0</td><td>1.0</td><td>2.0</td><td>1.0</td><td>1.0</td><td>0.5</td><td>2.0</td><td>1.0</td><td>1.0</td><td>1.0</td><td>0.5</td><td>0.5</td><td>0</td><td>0</td><td>0</td><td>&quot;Charmander&quot;</td><td>&quot;Level &quot;</td><td>&quot;Charmeleon&quot;</td><td>&quot;Level &quot;</td><td>&quot;Charizard&quot;</td><td>null</td><td>null</td><td>null</td><td>null</td><td>null</td><td>&quot;It has a barbaric nature. In b…</td></tr></tbody></table></div>"
      ],
      "text/plain": [
       "shape: (5, 55)\n",
       "┌────────────┬─────┬────────────┬────────────┬───┬────────────┬────────────┬───────────┬───────────┐\n",
       "│ national_n ┆ gen ┆ english_na ┆ japanese_n ┆ … ┆ gigantamax ┆ mega_evolu ┆ mega_evol ┆ descripti │\n",
       "│ umber      ┆ --- ┆ me         ┆ ame        ┆   ┆ ---        ┆ tion       ┆ ution_alt ┆ on        │\n",
       "│ ---        ┆ str ┆ ---        ┆ ---        ┆   ┆ str        ┆ ---        ┆ ---       ┆ ---       │\n",
       "│ i64        ┆     ┆ str        ┆ str        ┆   ┆            ┆ str        ┆ str       ┆ str       │\n",
       "╞════════════╪═════╪════════════╪════════════╪═══╪════════════╪════════════╪═══════════╪═══════════╡\n",
       "│ 1          ┆ I   ┆ Bulbasaur  ┆ Fushigidan ┆ … ┆ null       ┆ null       ┆ null      ┆ There is  │\n",
       "│            ┆     ┆            ┆ e          ┆   ┆            ┆            ┆           ┆ a plant   │\n",
       "│            ┆     ┆            ┆            ┆   ┆            ┆            ┆           ┆ seed on   │\n",
       "│            ┆     ┆            ┆            ┆   ┆            ┆            ┆           ┆ its b…    │\n",
       "│ 2          ┆ I   ┆ Ivysaur    ┆ Fushigisou ┆ … ┆ null       ┆ null       ┆ null      ┆ When the  │\n",
       "│            ┆     ┆            ┆            ┆   ┆            ┆            ┆           ┆ bulb on   │\n",
       "│            ┆     ┆            ┆            ┆   ┆            ┆            ┆           ┆ its back  │\n",
       "│            ┆     ┆            ┆            ┆   ┆            ┆            ┆           ┆ grow…     │\n",
       "│ 3          ┆ I   ┆ Venusaur   ┆ Fushigiban ┆ … ┆ Gigantamax ┆ Mega       ┆ null      ┆ Its plant │\n",
       "│            ┆     ┆            ┆ a          ┆   ┆ Venusaur   ┆ Venusaur   ┆           ┆ blooms    │\n",
       "│            ┆     ┆            ┆            ┆   ┆            ┆            ┆           ┆ when it   │\n",
       "│            ┆     ┆            ┆            ┆   ┆            ┆            ┆           ┆ is ab…    │\n",
       "│ 4          ┆ I   ┆ Charmander ┆ Hitokage   ┆ … ┆ null       ┆ null       ┆ null      ┆ It has a  │\n",
       "│            ┆     ┆            ┆            ┆   ┆            ┆            ┆           ┆ preferenc │\n",
       "│            ┆     ┆            ┆            ┆   ┆            ┆            ┆           ┆ e for hot │\n",
       "│            ┆     ┆            ┆            ┆   ┆            ┆            ┆           ┆ th…       │\n",
       "│ 5          ┆ I   ┆ Charmeleon ┆ Lizardo    ┆ … ┆ null       ┆ null       ┆ null      ┆ It has a  │\n",
       "│            ┆     ┆            ┆            ┆   ┆            ┆            ┆           ┆ barbaric  │\n",
       "│            ┆     ┆            ┆            ┆   ┆            ┆            ┆           ┆ nature.   │\n",
       "│            ┆     ┆            ┆            ┆   ┆            ┆            ┆           ┆ In b…     │\n",
       "└────────────┴─────┴────────────┴────────────┴───┴────────────┴────────────┴───────────┴───────────┘"
      ]
     },
     "execution_count": 6,
     "metadata": {},
     "output_type": "execute_result"
    }
   ],
   "source": [
    "pokemon.head()"
   ]
  },
  {
   "cell_type": "code",
   "execution_count": null,
   "id": "9233a03b-d066-4859-bc45-a80fe7f02b0c",
   "metadata": {},
   "outputs": [],
   "source": []
  }
 ],
 "metadata": {
  "kernelspec": {
   "display_name": "Python 3 (ipykernel)",
   "language": "python",
   "name": "python3"
  },
  "language_info": {
   "codemirror_mode": {
    "name": "ipython",
    "version": 3
   },
   "file_extension": ".py",
   "mimetype": "text/x-python",
   "name": "python",
   "nbconvert_exporter": "python",
   "pygments_lexer": "ipython3",
   "version": "3.13.3"
  }
 },
 "nbformat": 4,
 "nbformat_minor": 5
}
